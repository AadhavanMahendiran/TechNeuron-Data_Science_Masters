{
 "cells": [
  {
   "cell_type": "markdown",
   "id": "ab90f93c",
   "metadata": {},
   "source": [
    "__1.What are the two values of the Boolean data type? How do you write them?__"
   ]
  },
  {
   "cell_type": "markdown",
   "id": "130e9f2a",
   "metadata": {},
   "source": [
    "Answer:\n",
    "The Two types of data types are True and False"
   ]
  },
  {
   "cell_type": "markdown",
   "id": "6d2332c7",
   "metadata": {},
   "source": [
    "__2. What are the three different types of Boolean operators?__"
   ]
  },
  {
   "cell_type": "markdown",
   "id": "41edcb5c",
   "metadata": {},
   "source": [
    "Answer:\n",
    "    Three Types of Boolean Operator is AND,OR,NOT"
   ]
  },
  {
   "cell_type": "markdown",
   "id": "e29d9339",
   "metadata": {},
   "source": [
    "__3. Make a list of each Boolean operator's truth tables (i.e. every possible combination of Boolean values for the operator and what it evaluate ).__"
   ]
  },
  {
   "cell_type": "markdown",
   "id": "b8e58a6c",
   "metadata": {},
   "source": [
    "Answer:\n",
    "    \n",
    "\"AND\" Logical\n",
    "            False AND False: False\n",
    "\n",
    "            False AND True: False\n",
    "\n",
    "            True AND False: False\n",
    "\n",
    "            True AND True: True\n",
    "    \n",
    "\"OR\" Logical\n",
    "\n",
    "            False OR False: False\n",
    "\n",
    "            False OR True: True\n",
    "\n",
    "            True OR False: True\n",
    "\n",
    "            True OR True: True\n",
    "                \n",
    "\"Not\" Logical \n",
    "\n",
    "                not False: True\n",
    "\n",
    "                not True: False"
   ]
  },
  {
   "cell_type": "raw",
   "id": "362ca88f",
   "metadata": {},
   "source": [
    "__4. What are the values of the following expressions?\n",
    "(5 > 4) and (3 == 5)\n",
    "not (5 > 4)\n",
    "(5 > 4) or (3 == 5)\n",
    "not ((5 > 4) or (3 == 5))\n",
    "(True and True) and (True == False)\n",
    "(not False) or (not True)\n",
    "__"
   ]
  },
  {
   "cell_type": "code",
   "execution_count": 14,
   "id": "ab2ac3e4",
   "metadata": {},
   "outputs": [
    {
     "data": {
      "text/plain": [
       "False"
      ]
     },
     "execution_count": 14,
     "metadata": {},
     "output_type": "execute_result"
    }
   ],
   "source": [
    "(5 > 4) and (3 == 5)"
   ]
  },
  {
   "cell_type": "code",
   "execution_count": 15,
   "id": "13e3e2b1",
   "metadata": {},
   "outputs": [
    {
     "data": {
      "text/plain": [
       "False"
      ]
     },
     "execution_count": 15,
     "metadata": {},
     "output_type": "execute_result"
    }
   ],
   "source": [
    "not (5 > 4)"
   ]
  },
  {
   "cell_type": "code",
   "execution_count": 16,
   "id": "b15c232d",
   "metadata": {},
   "outputs": [
    {
     "data": {
      "text/plain": [
       "True"
      ]
     },
     "execution_count": 16,
     "metadata": {},
     "output_type": "execute_result"
    }
   ],
   "source": [
    "(5 > 4) or (3 == 5)"
   ]
  },
  {
   "cell_type": "code",
   "execution_count": 17,
   "id": "a92091b0",
   "metadata": {},
   "outputs": [
    {
     "data": {
      "text/plain": [
       "False"
      ]
     },
     "execution_count": 17,
     "metadata": {},
     "output_type": "execute_result"
    }
   ],
   "source": [
    "not ((5 > 4) or (3 == 5))"
   ]
  },
  {
   "cell_type": "code",
   "execution_count": 18,
   "id": "4340e085",
   "metadata": {},
   "outputs": [
    {
     "data": {
      "text/plain": [
       "False"
      ]
     },
     "execution_count": 18,
     "metadata": {},
     "output_type": "execute_result"
    }
   ],
   "source": [
    "(True and True) and (True == False)"
   ]
  },
  {
   "cell_type": "code",
   "execution_count": 19,
   "id": "1cf76e5c",
   "metadata": {},
   "outputs": [
    {
     "data": {
      "text/plain": [
       "True"
      ]
     },
     "execution_count": 19,
     "metadata": {},
     "output_type": "execute_result"
    }
   ],
   "source": [
    "(not False) or (not True)"
   ]
  },
  {
   "cell_type": "markdown",
   "id": "edb3c13a",
   "metadata": {},
   "source": [
    "Answer:\n",
    "\n",
    "            (5 > 4) and (3 == 5) -----------------------------> False\n",
    "            not (5 > 4) --------------------------------------> False\n",
    "            (5 > 4) or (3 == 5) ------------------------------> True\n",
    "            not ((5 > 4) or (3 == 5))-------------------------> False\n",
    "            (True and True) and (True == False) --------------> False\n",
    "            (not False) or (not True) ------------------------> True"
   ]
  },
  {
   "cell_type": "markdown",
   "id": "63f0b1ee",
   "metadata": {},
   "source": [
    "__5. What are the six comparison operators?__"
   ]
  },
  {
   "cell_type": "markdown",
   "id": "c15b9fb0",
   "metadata": {},
   "source": [
    "Answer:\n",
    "    \n",
    "               1.less than ( < ),\n",
    "               2.less than or equal to ( <= ),\n",
    "               3.greater than ( > ), \n",
    "               4.greater than or equal to ( >= ),\n",
    "               5.equal to ( == ),\n",
    "               6.not equal to ( != )."
   ]
  },
  {
   "cell_type": "markdown",
   "id": "e47eaf4f",
   "metadata": {},
   "source": [
    "__6. How do you tell the difference between the equal to and assignment operators?Describe a condition and when you would use one.__"
   ]
  },
  {
   "cell_type": "markdown",
   "id": "9f5619ca",
   "metadata": {},
   "source": [
    "Answer:\n",
    "    \n",
    "    The “=” is an assignment operator is used to assign the value on the right to the variable on the left.\n",
    "    Eg : a = 5\n",
    "        \n",
    "    The ‘==’ operator checks whether the two given operands are equal or not. If so, it returns true. \n",
    "    Otherwise it returns false.\n",
    "    Eg :7 == 7\n",
    "        This will returns true"
   ]
  },
  {
   "cell_type": "raw",
   "id": "b8bdfb9a",
   "metadata": {},
   "source": [
    "__7. Identify the three blocks in this code:\n",
    "spam = 0\n",
    "if spam == 10:\n",
    "print('eggs') \n",
    "if spam > 5: \n",
    "print('bacon')\n",
    "else:\n",
    "print('ham')\n",
    "print('spam')\n",
    "print('spam')\n",
    "__"
   ]
  },
  {
   "cell_type": "markdown",
   "id": "851622c2",
   "metadata": {},
   "source": [
    "Answer:\n",
    "\n",
    "        The three blocks are everything inside the if statements\n",
    "\n",
    "            print('eggs') # Block 1\n",
    "            if spam > 5: # Block 2\n",
    "                print('bacon')     \n",
    "            else:\n",
    "                print('ham')\n",
    "            print('spam')\n",
    "            print('spam') # Block 3\n"
   ]
  },
  {
   "cell_type": "markdown",
   "id": "9f832413",
   "metadata": {},
   "source": [
    "__8. Write code that prints Hello if 1 is stored in spam, prints Howdy if 2 is stored in spam, and prints Greetings! if anything else is stored in spam.__"
   ]
  },
  {
   "cell_type": "code",
   "execution_count": 1,
   "id": "e181482e",
   "metadata": {},
   "outputs": [
    {
     "name": "stdout",
     "output_type": "stream",
     "text": [
      "Type the number either 1 or 2 or 3 :2\n",
      "Howdy\n"
     ]
    }
   ],
   "source": [
    "spam = int(input(\"Type the number either 1 or 2 or 3 :\"))\n",
    "\n",
    "if spam == 1:\n",
    "    print(\"Hello\")\n",
    "elif spam == 2:\n",
    "    print(\"Howdy\")\n",
    "else:\n",
    "    print(\"Greetings!\")"
   ]
  },
  {
   "cell_type": "markdown",
   "id": "62af2034",
   "metadata": {},
   "source": [
    "__9.If your programme is stuck in an endless loop, what keys you’ll press?__"
   ]
  },
  {
   "cell_type": "markdown",
   "id": "c9482163",
   "metadata": {},
   "source": [
    "Answer: \n",
    "\n",
    "        Need to press CNTRL + C to stop the program."
   ]
  },
  {
   "cell_type": "markdown",
   "id": "326d5b2f",
   "metadata": {},
   "source": [
    "__10. How can you tell the difference between break and continue?__"
   ]
  },
  {
   "cell_type": "markdown",
   "id": "bfca8ff4",
   "metadata": {},
   "source": [
    "Answer:\n",
    "    \n",
    "      Break will stop the program upto that particular place.\n",
    "      Continue will skip that place and continue the program then stops at when program gets end.\n",
    "    \n",
    "Examples are given below"
   ]
  },
  {
   "cell_type": "markdown",
   "id": "8517b75a",
   "metadata": {},
   "source": [
    "__Break will stop the program upto that particular place.__"
   ]
  },
  {
   "cell_type": "code",
   "execution_count": 2,
   "id": "bf7035db",
   "metadata": {},
   "outputs": [
    {
     "data": {
      "text/plain": [
       "'my name is sudhanshu'"
      ]
     },
     "execution_count": 2,
     "metadata": {},
     "output_type": "execute_result"
    }
   ],
   "source": [
    "s = \"my name is sudhanshu\"\n",
    "s"
   ]
  },
  {
   "cell_type": "code",
   "execution_count": 4,
   "id": "fbedbfdd",
   "metadata": {},
   "outputs": [
    {
     "name": "stdout",
     "output_type": "stream",
     "text": [
      "m\n",
      "y\n",
      " \n"
     ]
    }
   ],
   "source": [
    "for i in s:\n",
    "    if i == \"n\":\n",
    "        break\n",
    "    print(i)\n",
    "else:\n",
    "    if i == \"u\":\n",
    "        print(\"last char was u\")\n",
    "    print(\"This is else condition\")"
   ]
  },
  {
   "cell_type": "markdown",
   "id": "8a34b39f",
   "metadata": {},
   "source": [
    "__Continue will skip that place and continue the program then stops at when program gets end.__"
   ]
  },
  {
   "cell_type": "code",
   "execution_count": 5,
   "id": "9c71be6e",
   "metadata": {},
   "outputs": [
    {
     "name": "stdout",
     "output_type": "stream",
     "text": [
      "m\n",
      "y\n",
      " \n",
      "a\n",
      "m\n",
      "e\n",
      " \n",
      "i\n",
      "s\n",
      " \n",
      "s\n",
      "u\n",
      "d\n",
      "h\n",
      "a\n",
      "s\n",
      "h\n",
      "u\n",
      "last char was u\n",
      "This is else condition\n"
     ]
    }
   ],
   "source": [
    "for i in s:\n",
    "    if i == \"n\":\n",
    "        continue\n",
    "    print(i)\n",
    "else:\n",
    "    if i == \"u\":\n",
    "        print(\"last char was u\")\n",
    "    print(\"This is else condition\")"
   ]
  },
  {
   "cell_type": "markdown",
   "id": "1f2c59e6",
   "metadata": {},
   "source": [
    "__11. In a for loop, what is the difference between range(10), range(0, 10), and range(0, 10, 1)?__"
   ]
  },
  {
   "cell_type": "markdown",
   "id": "9e021d8c",
   "metadata": {},
   "source": [
    "Answer:"
   ]
  },
  {
   "cell_type": "markdown",
   "id": "24d226e5",
   "metadata": {},
   "source": [
    "__There is no difference in the output. all output are same.__"
   ]
  },
  {
   "cell_type": "code",
   "execution_count": 9,
   "id": "00089075",
   "metadata": {},
   "outputs": [
    {
     "name": "stdout",
     "output_type": "stream",
     "text": [
      "0\n",
      "1\n",
      "2\n",
      "3\n",
      "4\n",
      "5\n",
      "6\n",
      "7\n",
      "8\n",
      "9\n"
     ]
    }
   ],
   "source": [
    "for i in range(10):\n",
    "    print(i)"
   ]
  },
  {
   "cell_type": "code",
   "execution_count": 10,
   "id": "3e861df4",
   "metadata": {},
   "outputs": [
    {
     "name": "stdout",
     "output_type": "stream",
     "text": [
      "0\n",
      "1\n",
      "2\n",
      "3\n",
      "4\n",
      "5\n",
      "6\n",
      "7\n",
      "8\n",
      "9\n"
     ]
    }
   ],
   "source": [
    "for i in range(0, 10):\n",
    "    print(i)"
   ]
  },
  {
   "cell_type": "code",
   "execution_count": 11,
   "id": "30aa86a1",
   "metadata": {},
   "outputs": [
    {
     "name": "stdout",
     "output_type": "stream",
     "text": [
      "0\n",
      "1\n",
      "2\n",
      "3\n",
      "4\n",
      "5\n",
      "6\n",
      "7\n",
      "8\n",
      "9\n"
     ]
    }
   ],
   "source": [
    "for i in range(0, 10, 1):\n",
    "    print(i)"
   ]
  },
  {
   "cell_type": "markdown",
   "id": "1c6839d4",
   "metadata": {},
   "source": [
    "__12. Write a short program that prints the numbers 1 to 10 using a for loop. Then write an equivalent program that prints the numbers 1 to 10 using a while loop.__"
   ]
  },
  {
   "cell_type": "markdown",
   "id": "5a307c15",
   "metadata": {},
   "source": [
    "Answer:"
   ]
  },
  {
   "cell_type": "markdown",
   "id": "0e1ca853",
   "metadata": {},
   "source": [
    "__for loop__"
   ]
  },
  {
   "cell_type": "code",
   "execution_count": 13,
   "id": "16201601",
   "metadata": {},
   "outputs": [
    {
     "name": "stdout",
     "output_type": "stream",
     "text": [
      "1\n",
      "2\n",
      "3\n",
      "4\n",
      "5\n",
      "6\n",
      "7\n",
      "8\n",
      "9\n",
      "10\n"
     ]
    }
   ],
   "source": [
    "for i in range (1,11):\n",
    "    print(i)"
   ]
  },
  {
   "cell_type": "markdown",
   "id": "cd5bb8e1",
   "metadata": {},
   "source": [
    "__while loop__"
   ]
  },
  {
   "cell_type": "code",
   "execution_count": 15,
   "id": "034cff43",
   "metadata": {},
   "outputs": [
    {
     "name": "stdout",
     "output_type": "stream",
     "text": [
      "1\n",
      "2\n",
      "3\n",
      "4\n",
      "5\n",
      "6\n",
      "7\n",
      "8\n",
      "9\n",
      "10\n"
     ]
    }
   ],
   "source": [
    "i = 1 \n",
    "while i < 11:\n",
    "    print(i)\n",
    "    \n",
    "    i = i +1"
   ]
  },
  {
   "cell_type": "markdown",
   "id": "86df6b8a",
   "metadata": {},
   "source": [
    "__13. If you had a function named bacon() inside a module named spam, how would you call it after importing spam?__"
   ]
  },
  {
   "cell_type": "markdown",
   "id": "31cd1a3f",
   "metadata": {},
   "source": [
    "Answer: \n",
    "      \n",
    "    we call the function as spam.bacon()."
   ]
  },
  {
   "cell_type": "code",
   "execution_count": null,
   "id": "7acde1d3",
   "metadata": {},
   "outputs": [],
   "source": []
  },
  {
   "cell_type": "code",
   "execution_count": null,
   "id": "a6f9874d",
   "metadata": {},
   "outputs": [],
   "source": []
  },
  {
   "cell_type": "code",
   "execution_count": null,
   "id": "1a48f8ec",
   "metadata": {},
   "outputs": [],
   "source": []
  },
  {
   "cell_type": "code",
   "execution_count": null,
   "id": "63a0cb3e",
   "metadata": {},
   "outputs": [],
   "source": []
  },
  {
   "cell_type": "code",
   "execution_count": null,
   "id": "265dd694",
   "metadata": {},
   "outputs": [],
   "source": []
  }
 ],
 "metadata": {
  "kernelspec": {
   "display_name": "Python 3 (ipykernel)",
   "language": "python",
   "name": "python3"
  },
  "language_info": {
   "codemirror_mode": {
    "name": "ipython",
    "version": 3
   },
   "file_extension": ".py",
   "mimetype": "text/x-python",
   "name": "python",
   "nbconvert_exporter": "python",
   "pygments_lexer": "ipython3",
   "version": "3.9.7"
  }
 },
 "nbformat": 4,
 "nbformat_minor": 5
}
