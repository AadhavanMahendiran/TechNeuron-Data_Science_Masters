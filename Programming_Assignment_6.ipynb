{
 "cells": [
  {
   "cell_type": "markdown",
   "id": "5fc42842",
   "metadata": {},
   "source": [
    "### 1.\tWrite a Python Program to Display Fibonacci Sequence Using Recursion?"
   ]
  },
  {
   "cell_type": "code",
   "execution_count": 29,
   "id": "2920f002",
   "metadata": {},
   "outputs": [],
   "source": [
    "def recur_fibo(n):\n",
    "    try :\n",
    "        if n <= 1:\n",
    "            return n\n",
    "        else:\n",
    "            return(recur_fibo(n-1) + recur_fibo(n-2))\n",
    "            \n",
    "    except Exception as e:\n",
    "        print(f'The error in the code is {e}')\n",
    "        \n",
    "    else:\n",
    "        print(\"The code is excecuted\") "
   ]
  },
  {
   "cell_type": "code",
   "execution_count": 31,
   "id": "e9474a52",
   "metadata": {},
   "outputs": [
    {
     "name": "stdout",
     "output_type": "stream",
     "text": [
      "Enter the input number :10\n",
      "Fibonacci sequence:\n",
      "0\n",
      "1\n",
      "1\n",
      "2\n",
      "3\n",
      "5\n",
      "8\n",
      "13\n",
      "21\n",
      "34\n"
     ]
    }
   ],
   "source": [
    " nterms = int(input(\"Enter the input number :\"))\n",
    "\n",
    "\n",
    "if nterms <= 0:\n",
    "        print(\"Plese enter a positive integer\")\n",
    "else:\n",
    "    print(\"Fibonacci sequence:\")\n",
    "    for i in range(nterms):\n",
    "        print(recur_fibo(i))"
   ]
  },
  {
   "cell_type": "markdown",
   "id": "a8ac8183",
   "metadata": {},
   "source": [
    "### 2.\tWrite a Python Program to Find Factorial of Number Using Recursion?"
   ]
  },
  {
   "cell_type": "code",
   "execution_count": 38,
   "id": "e191007a",
   "metadata": {},
   "outputs": [],
   "source": [
    "def factorial(n):\n",
    "    try :\n",
    "        if n == 0:\n",
    "            return 1\n",
    "        else:\n",
    "            return n * factorial(n-1)\n",
    "\n",
    "        num = int(input(\"Enter the number :\"))\n",
    "\n",
    "        if num < 0:\n",
    "            print(\"There is no factorial for negative numbers\")\n",
    "        else:\n",
    "            print(f\"The factorial of {num} is {factorial(num)}\")\n",
    "            \n",
    "    except Exception as e:\n",
    "        print(f'There is error in this code {e}')\n",
    "    \n",
    "    else :\n",
    "        print(\"The code is succesfully exceuted\")\n",
    "        "
   ]
  },
  {
   "cell_type": "code",
   "execution_count": 39,
   "id": "3accd4a6",
   "metadata": {},
   "outputs": [
    {
     "name": "stdout",
     "output_type": "stream",
     "text": [
      "Enter the number :23\n",
      "The factorial of 23 is 25852016738884976640000\n"
     ]
    }
   ],
   "source": [
    "num = int(input(\"Enter the number :\"))\n",
    "\n",
    "if num < 0:\n",
    "    print(\"There is no factorial for negative numbers\")\n",
    "else:\n",
    "    print(f\"The factorial of {num} is {factorial(num)}\")"
   ]
  },
  {
   "cell_type": "markdown",
   "id": "2a346cac",
   "metadata": {},
   "source": [
    "### 3.\tWrite a Python Program to calculate your Body Mass Index?"
   ]
  },
  {
   "cell_type": "code",
   "execution_count": 36,
   "id": "d8514727",
   "metadata": {},
   "outputs": [],
   "source": [
    "def bmi():\n",
    "    try:\n",
    "        weight = float(input(\"Enter  your weight in kg : \"))\n",
    "        height = float(input(\"Enter your height in cm : \"))\n",
    "\n",
    "        bmi = weight/((height/100)**2)\n",
    "    \n",
    "        if (bmi <= 18.4):\n",
    "            print(f\"bmi value : {bmi}. report : Under weight\")\n",
    "    \n",
    "        elif (18.5<= bmi <=24.9) :\n",
    "            print(f\"bmi value : {bmi}. report : Normal weight\")\n",
    "        \n",
    "        elif (25 <= bmi <= 29.9):\n",
    "            print(f\" bmi value : {bmi}. report : Over weight\")\n",
    "            \n",
    "        elif (30 <= bmi <= 34.9) :\n",
    "            print(f\"bmi value : {bmi}. report : Obesity - class 1\")\n",
    "\n",
    "        elif (35 <= bmi <= 39.9) :\n",
    "            print(f\"bmi value : {bmi}. report : Obesity - class 2\")\n",
    "        \n",
    "        else :\n",
    "            print(f\"bmi value : {bmi}. report : Obesity - class 3\")\n",
    "        \n",
    "        \n",
    "    except Exception as e :\n",
    "        print(f\"There is error in this code : {e}\")\n",
    "        \n",
    "    else :\n",
    "        print(\"The code is succesfully excecuted\")\n",
    "        \n",
    "        "
   ]
  },
  {
   "cell_type": "code",
   "execution_count": 37,
   "id": "6b9787b9",
   "metadata": {},
   "outputs": [
    {
     "name": "stdout",
     "output_type": "stream",
     "text": [
      "Enter  your weight in kg : 24\n",
      "Enter your height in cm : 144\n",
      "bmi value : 11.574074074074074. report : Under weight\n",
      "The code is succesfully excecuted\n"
     ]
    }
   ],
   "source": [
    "bmi()"
   ]
  },
  {
   "cell_type": "markdown",
   "id": "3e30ae78",
   "metadata": {},
   "source": [
    "### 4.\tWrite a Python Program to calculate the natural logarithm of any number?"
   ]
  },
  {
   "cell_type": "code",
   "execution_count": 41,
   "id": "900164a6",
   "metadata": {},
   "outputs": [],
   "source": [
    "import math as m\n",
    "\n",
    "def logarithm_of_number():\n",
    "    try:\n",
    "        num = int(input(\"Enter the number to get log value :\"))\n",
    "    \n",
    "        z = m.log(num)\n",
    "    \n",
    "        print(f\" The logarithm of {num} is {z}\")\n",
    "    \n",
    "    except Exception as e:\n",
    "        print(f\"The error in the code is {e}\")\n",
    "    \n",
    "    else :\n",
    "        print(\"The code is succefully excecuted\")"
   ]
  },
  {
   "cell_type": "code",
   "execution_count": 42,
   "id": "f7ba1b51",
   "metadata": {},
   "outputs": [
    {
     "name": "stdout",
     "output_type": "stream",
     "text": [
      "Enter the number to get log value :4\n",
      " The logarithm of 4 is 1.3862943611198906\n",
      "The code is succefully excecuted\n"
     ]
    }
   ],
   "source": [
    "logarithm_of_number()"
   ]
  },
  {
   "cell_type": "markdown",
   "id": "bb192aa3",
   "metadata": {},
   "source": [
    "### 5.\tWrite a Python Program for cube sum of first n natural numbers?"
   ]
  },
  {
   "cell_type": "code",
   "execution_count": 44,
   "id": "18ebe8fa",
   "metadata": {},
   "outputs": [],
   "source": [
    "def cube_sum():\n",
    "    try:\n",
    "        num = int(input(\"Enter the number : \"))\n",
    "        sum = 0 \n",
    "        for i in range(1,num+1):\n",
    "            sum +=i*i*i\n",
    "    \n",
    "        return sum    \n",
    "    \n",
    "    except Exception as e:\n",
    "        print(f\"The error in this code is {e}\")\n",
    "            \n",
    "    else:\n",
    "        print(\"the code is succesfully executed\")"
   ]
  },
  {
   "cell_type": "code",
   "execution_count": 45,
   "id": "7aa2d5e0",
   "metadata": {},
   "outputs": [
    {
     "name": "stdout",
     "output_type": "stream",
     "text": [
      "Enter the number : 3\n"
     ]
    },
    {
     "data": {
      "text/plain": [
       "36"
      ]
     },
     "execution_count": 45,
     "metadata": {},
     "output_type": "execute_result"
    }
   ],
   "source": [
    "cube_sum()"
   ]
  },
  {
   "cell_type": "code",
   "execution_count": null,
   "id": "fbdd2ad8",
   "metadata": {},
   "outputs": [],
   "source": []
  }
 ],
 "metadata": {
  "kernelspec": {
   "display_name": "Python 3 (ipykernel)",
   "language": "python",
   "name": "python3"
  },
  "language_info": {
   "codemirror_mode": {
    "name": "ipython",
    "version": 3
   },
   "file_extension": ".py",
   "mimetype": "text/x-python",
   "name": "python",
   "nbconvert_exporter": "python",
   "pygments_lexer": "ipython3",
   "version": "3.9.7"
  }
 },
 "nbformat": 4,
 "nbformat_minor": 5
}
