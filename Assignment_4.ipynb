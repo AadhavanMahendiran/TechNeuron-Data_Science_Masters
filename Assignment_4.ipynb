{
 "cells": [
  {
   "cell_type": "markdown",
   "id": "1f91679c",
   "metadata": {},
   "source": [
    "__1. What exactly is [  ]?__"
   ]
  },
  {
   "cell_type": "markdown",
   "id": "0aa25c6e",
   "metadata": {},
   "source": [
    "[  ] This is called as empty list"
   ]
  },
  {
   "cell_type": "markdown",
   "id": "058b0366",
   "metadata": {},
   "source": [
    "__2. In a list of values stored in a variable called spam, how would you assign the value 'hello' as the third value?\n",
    "(Assume [2, 4, 6, 8, 10] are in spam.)__\n"
   ]
  },
  {
   "cell_type": "markdown",
   "id": "c84230ab",
   "metadata": {},
   "source": [
    "Answer:"
   ]
  },
  {
   "cell_type": "code",
   "execution_count": 8,
   "id": "cdfee6d9",
   "metadata": {},
   "outputs": [
    {
     "name": "stdout",
     "output_type": "stream",
     "text": [
      "[2, 4, 'hello', 6, 8, 10]\n"
     ]
    }
   ],
   "source": [
    "spam = [2, 4, 6, 8, 10]    \n",
    "spam.insert(2,\"hello\")\n",
    "print(spam)"
   ]
  },
  {
   "cell_type": "markdown",
   "id": "05ce5a61",
   "metadata": {},
   "source": [
    "__Let's pretend the spam includes the list ['a', 'b', 'c', 'd'] for the next three queries.__"
   ]
  },
  {
   "cell_type": "markdown",
   "id": "3e9d0f80",
   "metadata": {},
   "source": [
    "__3. What is the value of spam[int(int('3' * 2) / 11)]?__"
   ]
  },
  {
   "cell_type": "code",
   "execution_count": 10,
   "id": "a7366f96",
   "metadata": {},
   "outputs": [],
   "source": [
    "spam=['a', 'b', 'c', 'd']"
   ]
  },
  {
   "cell_type": "code",
   "execution_count": 12,
   "id": "6b56e029",
   "metadata": {},
   "outputs": [
    {
     "data": {
      "text/plain": [
       "'d'"
      ]
     },
     "execution_count": 12,
     "metadata": {},
     "output_type": "execute_result"
    }
   ],
   "source": [
    "spam[int(int('3' * 2) / 11)]\n",
    "# '3'* 2 ='33'\n",
    "# int('33') = 33/11 = 3\n",
    "# int(3) = 3\n",
    "# pam[3]"
   ]
  },
  {
   "cell_type": "markdown",
   "id": "7bc9a338",
   "metadata": {},
   "source": [
    "__4. What is the value of spam[-1]?__"
   ]
  },
  {
   "cell_type": "code",
   "execution_count": 14,
   "id": "1d30b076",
   "metadata": {},
   "outputs": [
    {
     "data": {
      "text/plain": [
       "'d'"
      ]
     },
     "execution_count": 14,
     "metadata": {},
     "output_type": "execute_result"
    }
   ],
   "source": [
    "spam[-1]\n",
    "#Negative indexing"
   ]
  },
  {
   "cell_type": "markdown",
   "id": "d45d56b9",
   "metadata": {},
   "source": [
    "__5. What is the value of spam[:2]?__\n"
   ]
  },
  {
   "cell_type": "code",
   "execution_count": 17,
   "id": "42a943d7",
   "metadata": {},
   "outputs": [
    {
     "data": {
      "text/plain": [
       "['a', 'b']"
      ]
     },
     "execution_count": 17,
     "metadata": {},
     "output_type": "execute_result"
    }
   ],
   "source": [
    "spam[:2]\n",
    "# slicing"
   ]
  },
  {
   "cell_type": "markdown",
   "id": "3855ce23",
   "metadata": {},
   "source": [
    "__Let's pretend bacon has the list [3.14, 'cat,' 11, 'cat,' True] for the next three questions.__"
   ]
  },
  {
   "cell_type": "code",
   "execution_count": 20,
   "id": "171e020d",
   "metadata": {},
   "outputs": [],
   "source": [
    "bacon = [3.14, 'cat',11, 'cat',True]"
   ]
  },
  {
   "cell_type": "markdown",
   "id": "877bd3fc",
   "metadata": {},
   "source": [
    "__6. What is the value of bacon.index('cat')?__"
   ]
  },
  {
   "cell_type": "code",
   "execution_count": 24,
   "id": "463f0f1c",
   "metadata": {},
   "outputs": [
    {
     "data": {
      "text/plain": [
       "'cat'"
      ]
     },
     "execution_count": 24,
     "metadata": {},
     "output_type": "execute_result"
    }
   ],
   "source": [
    "bacon[1]"
   ]
  },
  {
   "cell_type": "markdown",
   "id": "7956d8ef",
   "metadata": {},
   "source": [
    "__7. How does bacon.append(99) change the look of the list value in bacon?__"
   ]
  },
  {
   "cell_type": "code",
   "execution_count": 25,
   "id": "f0dc0b32",
   "metadata": {},
   "outputs": [
    {
     "data": {
      "text/plain": [
       "[3.14, 'cat', 11, 'cat', True, 99]"
      ]
     },
     "execution_count": 25,
     "metadata": {},
     "output_type": "execute_result"
    }
   ],
   "source": [
    "bacon.append(99) \n",
    "bacon"
   ]
  },
  {
   "cell_type": "markdown",
   "id": "abef9aa0",
   "metadata": {},
   "source": [
    "__8. How does bacon.remove('cat') change the look of the list in bacon?__"
   ]
  },
  {
   "cell_type": "code",
   "execution_count": 26,
   "id": "8b5a9e9d",
   "metadata": {},
   "outputs": [
    {
     "data": {
      "text/plain": [
       "[3.14, 11, 'cat', True, 99]"
      ]
     },
     "execution_count": 26,
     "metadata": {},
     "output_type": "execute_result"
    }
   ],
   "source": [
    "bacon.remove('cat')\n",
    "bacon"
   ]
  },
  {
   "cell_type": "markdown",
   "id": "a4ccd7d2",
   "metadata": {},
   "source": [
    "__9. What are the list concatenation and list replication operators?__"
   ]
  },
  {
   "cell_type": "markdown",
   "id": "f0dd5962",
   "metadata": {},
   "source": [
    "list concatenation = + (plus)\n"
   ]
  },
  {
   "cell_type": "markdown",
   "id": "1f976b29",
   "metadata": {},
   "source": [
    "list replication operator = * ( asterisk)"
   ]
  },
  {
   "cell_type": "markdown",
   "id": "53dad332",
   "metadata": {},
   "source": [
    "__10. What is difference between the list methods append() and insert()?__"
   ]
  },
  {
   "cell_type": "markdown",
   "id": "cc85d6f3",
   "metadata": {},
   "source": [
    "append -- In append place the object at the end of the list\n",
    "\n",
    "\n",
    "insert -- In insert with mentioning the index we can place the value at anywhere in the list"
   ]
  },
  {
   "cell_type": "markdown",
   "id": "3b6a73b3",
   "metadata": {},
   "source": [
    "__11. What are the two methods for removing items from a list?__"
   ]
  },
  {
   "cell_type": "raw",
   "id": "3e54d7b6",
   "metadata": {},
   "source": [
    "l = [2,3,4,5,6,7]\n",
    "del(l)\n",
    "l.remove()\n",
    "\n",
    "del and .remove()  are the two methods for removing items from a list"
   ]
  },
  {
   "cell_type": "markdown",
   "id": "9db9f53c",
   "metadata": {},
   "source": [
    "__12. Describe how list values and string values are identical.__"
   ]
  },
  {
   "cell_type": "markdown",
   "id": "f453d3a5",
   "metadata": {},
   "source": [
    "In both list and string we can do indexing, slicing, iteration, concatenation and replication operation"
   ]
  },
  {
   "cell_type": "markdown",
   "id": "1c898c5c",
   "metadata": {},
   "source": [
    "__13. What's the difference between tuples and lists?__"
   ]
  },
  {
   "cell_type": "markdown",
   "id": "af1a3999",
   "metadata": {},
   "source": [
    "Lists are muttable. values can be change there.\n",
    "\n",
    "\n",
    "Tuples are immutable Values cannot be change tere."
   ]
  },
  {
   "cell_type": "markdown",
   "id": "179a60ef",
   "metadata": {},
   "source": [
    "__14. How do you type a tuple value that only contains the integer 42?__"
   ]
  },
  {
   "cell_type": "code",
   "execution_count": 44,
   "id": "495fca49",
   "metadata": {},
   "outputs": [
    {
     "data": {
      "text/plain": [
       "tuple"
      ]
     },
     "execution_count": 44,
     "metadata": {},
     "output_type": "execute_result"
    }
   ],
   "source": [
    "t = (42,)\n",
    "type(t)"
   ]
  },
  {
   "cell_type": "markdown",
   "id": "afe9ad3a",
   "metadata": {},
   "source": [
    "__15. How do you get a list value's tuple form? How do you get a tuple value's list form?__"
   ]
  },
  {
   "cell_type": "code",
   "execution_count": 48,
   "id": "c0409013",
   "metadata": {},
   "outputs": [
    {
     "name": "stdout",
     "output_type": "stream",
     "text": [
      "[2, 3, 4, 5]\n",
      "<class 'list'>\n",
      "(2, 3, 4, 5)\n",
      "<class 'tuple'>\n"
     ]
    }
   ],
   "source": [
    "# list value's tuple form\n",
    "\n",
    "l = [2,3,4,5]\n",
    "print(l)\n",
    "print(type(l))\n",
    "t=tuple(l)\n",
    "print(t)\n",
    "print(type(t))"
   ]
  },
  {
   "cell_type": "code",
   "execution_count": 5,
   "id": "a712d738",
   "metadata": {},
   "outputs": [
    {
     "name": "stdout",
     "output_type": "stream",
     "text": [
      "(11, 22, 33, 44)\n",
      "<class 'tuple'>\n",
      "[11, 22, 33, 44]\n",
      "<class 'list'>\n"
     ]
    }
   ],
   "source": [
    "t1 = (11,22,33,44)\n",
    "print(t1)\n",
    "print(type(t1))\n",
    "l1 = list(t1)\n",
    "print(l1)\n",
    "print(type(l1))"
   ]
  },
  {
   "cell_type": "markdown",
   "id": "6bdaf172",
   "metadata": {},
   "source": [
    "__16. Variables that \"contain\" list values are not necessarily lists themselves. Instead, what do they contain?__"
   ]
  },
  {
   "cell_type": "markdown",
   "id": "75cd8926",
   "metadata": {},
   "source": [
    "They contain references to list values."
   ]
  },
  {
   "cell_type": "code",
   "execution_count": null,
   "id": "86351c4a",
   "metadata": {},
   "outputs": [],
   "source": []
  }
 ],
 "metadata": {
  "kernelspec": {
   "display_name": "Python 3 (ipykernel)",
   "language": "python",
   "name": "python3"
  },
  "language_info": {
   "codemirror_mode": {
    "name": "ipython",
    "version": 3
   },
   "file_extension": ".py",
   "mimetype": "text/x-python",
   "name": "python",
   "nbconvert_exporter": "python",
   "pygments_lexer": "ipython3",
   "version": "3.9.7"
  }
 },
 "nbformat": 4,
 "nbformat_minor": 5
}
