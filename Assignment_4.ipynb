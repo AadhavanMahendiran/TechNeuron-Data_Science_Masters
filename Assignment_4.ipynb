{
 "cells": [
  {
   "cell_type": "markdown",
   "id": "1f91679c",
   "metadata": {},
   "source": [
    "__1. What exactly is [  ]?__"
   ]
  },
  {
   "cell_type": "markdown",
   "id": "d8071a91",
   "metadata": {},
   "source": [
    "[  ] This is called as empty list"
   ]
  },
  {
   "cell_type": "markdown",
   "id": "058b0366",
   "metadata": {},
   "source": [
    "__2. In a list of values stored in a variable called spam, how would you assign the value 'hello' as the third value?\n",
    "(Assume [2, 4, 6, 8, 10] are in spam.)__\n"
   ]
  },
  {
   "cell_type": "markdown",
   "id": "2ec8f44f",
   "metadata": {},
   "source": [
    "Answer:"
   ]
  },
  {
   "cell_type": "code",
   "execution_count": 7,
   "id": "fe4982f3",
   "metadata": {},
   "outputs": [
    {
     "name": "stdout",
     "output_type": "stream",
     "text": [
      "[2, 4, 'hello', 6, 8, 10]\n"
     ]
    }
   ],
   "source": [
    "spam = [2, 4, 6, 8, 10]    \n",
    "spam.insert(2,\"hello\")\n",
    "print(spam)"
   ]
  },
  {
   "cell_type": "markdown",
   "id": "c20af3ac",
   "metadata": {},
   "source": [
    "__Let's pretend the spam includes the list ['a', 'b', 'c', 'd'] for the next three queries.__"
   ]
  },
  {
   "cell_type": "markdown",
   "id": "3e9d0f80",
   "metadata": {},
   "source": [
    "__3. What is the value of spam[int(int('3' * 2) / 11)]?__"
   ]
  },
  {
   "cell_type": "code",
   "execution_count": 10,
   "id": "5164018e",
   "metadata": {},
   "outputs": [],
   "source": [
    "spam=['a', 'b', 'c', 'd']"
   ]
  },
  {
   "cell_type": "code",
   "execution_count": 12,
   "id": "b12ca7dd",
   "metadata": {},
   "outputs": [
    {
     "data": {
      "text/plain": [
       "'d'"
      ]
     },
     "execution_count": 12,
     "metadata": {},
     "output_type": "execute_result"
    }
   ],
   "source": [
    "spam[int(int('3' * 2) / 11)]\n",
    "# '3'* 2 ='33'\n",
    "# int('33') = 33/11 = 3\n",
    "# int(3) = 3\n",
    "# pam[3]"
   ]
  },
  {
   "cell_type": "markdown",
   "id": "7bc9a338",
   "metadata": {},
   "source": [
    "__4. What is the value of spam[-1]?__"
   ]
  },
  {
   "cell_type": "code",
   "execution_count": 14,
   "id": "0f7d5954",
   "metadata": {},
   "outputs": [
    {
     "data": {
      "text/plain": [
       "'d'"
      ]
     },
     "execution_count": 14,
     "metadata": {},
     "output_type": "execute_result"
    }
   ],
   "source": [
    "spam[-1]\n",
    "#Negative indexing"
   ]
  },
  {
   "cell_type": "markdown",
   "id": "d45d56b9",
   "metadata": {},
   "source": [
    "__5. What is the value of spam[:2]?__\n"
   ]
  },
  {
   "cell_type": "code",
   "execution_count": 17,
   "id": "bb1cc970",
   "metadata": {},
   "outputs": [
    {
     "data": {
      "text/plain": [
       "['a', 'b']"
      ]
     },
     "execution_count": 17,
     "metadata": {},
     "output_type": "execute_result"
    }
   ],
   "source": [
    "spam[:2]\n",
    "# slicing"
   ]
  },
  {
   "cell_type": "markdown",
   "id": "a2257316",
   "metadata": {},
   "source": [
    "__Let's pretend bacon has the list [3.14, 'cat,' 11, 'cat,' True] for the next three questions.__"
   ]
  },
  {
   "cell_type": "code",
   "execution_count": 20,
   "id": "8bc46c5f",
   "metadata": {},
   "outputs": [],
   "source": [
    "bacon = [3.14, 'cat',11, 'cat',True]"
   ]
  },
  {
   "cell_type": "markdown",
   "id": "877bd3fc",
   "metadata": {},
   "source": [
    "__6. What is the value of bacon.index('cat')?__"
   ]
  },
  {
   "cell_type": "code",
   "execution_count": 24,
   "id": "5d02546e",
   "metadata": {},
   "outputs": [
    {
     "data": {
      "text/plain": [
       "'cat'"
      ]
     },
     "execution_count": 24,
     "metadata": {},
     "output_type": "execute_result"
    }
   ],
   "source": [
    "bacon[1]"
   ]
  },
  {
   "cell_type": "markdown",
   "id": "7956d8ef",
   "metadata": {},
   "source": [
    "__7. How does bacon.append(99) change the look of the list value in bacon?__"
   ]
  },
  {
   "cell_type": "code",
   "execution_count": 25,
   "id": "d9689497",
   "metadata": {},
   "outputs": [
    {
     "data": {
      "text/plain": [
       "[3.14, 'cat', 11, 'cat', True, 99]"
      ]
     },
     "execution_count": 25,
     "metadata": {},
     "output_type": "execute_result"
    }
   ],
   "source": [
    "bacon.append(99) \n",
    "bacon"
   ]
  },
  {
   "cell_type": "markdown",
   "id": "abef9aa0",
   "metadata": {},
   "source": [
    "__8. How does bacon.remove('cat') change the look of the list in bacon?__"
   ]
  },
  {
   "cell_type": "code",
   "execution_count": 26,
   "id": "90084acb",
   "metadata": {},
   "outputs": [
    {
     "data": {
      "text/plain": [
       "[3.14, 11, 'cat', True, 99]"
      ]
     },
     "execution_count": 26,
     "metadata": {},
     "output_type": "execute_result"
    }
   ],
   "source": [
    "bacon.remove('cat')\n",
    "bacon"
   ]
  },
  {
   "cell_type": "markdown",
   "id": "a4ccd7d2",
   "metadata": {},
   "source": [
    "__9. What are the list concatenation and list replication operators?__"
   ]
  },
  {
   "cell_type": "markdown",
   "id": "faa4b85b",
   "metadata": {},
   "source": [
    "list concatenation = + (plus)\n"
   ]
  },
  {
   "cell_type": "markdown",
   "id": "7adc8d95",
   "metadata": {},
   "source": [
    "list replication operator = * ( asterisk)"
   ]
  },
  {
   "cell_type": "markdown",
   "id": "53dad332",
   "metadata": {},
   "source": [
    "__10. What is difference between the list methods append() and insert()?__"
   ]
  },
  {
   "cell_type": "markdown",
   "id": "c78980ed",
   "metadata": {},
   "source": [
    "append -- In append place the object at the end of the list\n",
    "\n",
    "\n",
    "insert -- In insert with mentioning the index we can place the value at anywhere in the list"
   ]
  },
  {
   "cell_type": "markdown",
   "id": "3b6a73b3",
   "metadata": {},
   "source": [
    "__11. What are the two methods for removing items from a list?__"
   ]
  },
  {
   "cell_type": "markdown",
   "id": "c2fd33ad",
   "metadata": {},
   "source": [
    "l = [2,3,4,5,6,7] \n",
    "\n",
    "del(l)\n",
    "\n",
    "\n",
    "l.remove()\n",
    "\n",
    "del and .remove()  are the two methods for removing items from a list"
   ]
  },
  {
   "cell_type": "markdown",
   "id": "71bb9e19",
   "metadata": {},
   "source": [
    "__12. Describe how list values and string values are identical.__"
   ]
  },
  {
   "cell_type": "markdown",
   "id": "8623f800",
   "metadata": {},
   "source": [
    "In both list and string we can do indexing, slicing, iteration, concatenation and replication operation"
   ]
  },
  {
   "cell_type": "markdown",
   "id": "1c898c5c",
   "metadata": {},
   "source": [
    "__13. What's the difference between tuples and lists?__"
   ]
  },
  {
   "cell_type": "markdown",
   "id": "c6542fcd",
   "metadata": {},
   "source": [
    "Lists are muttable. values can be change there.\n",
    "\n",
    "\n",
    "Tuples are immutable Values cannot be change tere."
   ]
  },
  {
   "cell_type": "markdown",
   "id": "179a60ef",
   "metadata": {},
   "source": [
    "__14. How do you type a tuple value that only contains the integer 42?__"
   ]
  },
  {
   "cell_type": "code",
   "execution_count": 44,
   "id": "d632b61b",
   "metadata": {},
   "outputs": [
    {
     "data": {
      "text/plain": [
       "tuple"
      ]
     },
     "execution_count": 44,
     "metadata": {},
     "output_type": "execute_result"
    }
   ],
   "source": [
    "t = (42,)\n",
    "type(t)"
   ]
  },
  {
   "cell_type": "markdown",
   "id": "afe9ad3a",
   "metadata": {},
   "source": [
    "__15. How do you get a list value's tuple form? How do you get a tuple value's list form?__"
   ]
  },
  {
   "cell_type": "code",
   "execution_count": 48,
   "id": "eb4a543a",
   "metadata": {},
   "outputs": [
    {
     "name": "stdout",
     "output_type": "stream",
     "text": [
      "[2, 3, 4, 5]\n",
      "<class 'list'>\n",
      "(2, 3, 4, 5)\n",
      "<class 'tuple'>\n"
     ]
    }
   ],
   "source": [
    "# list value's tuple form\n",
    "\n",
    "l = [2,3,4,5]\n",
    "print(l)\n",
    "print(type(l))\n",
    "t=tuple(l)\n",
    "print(t)\n",
    "print(type(t))"
   ]
  },
  {
   "cell_type": "code",
   "execution_count": 5,
   "id": "93258699",
   "metadata": {},
   "outputs": [
    {
     "name": "stdout",
     "output_type": "stream",
     "text": [
      "(11, 22, 33, 44)\n",
      "<class 'tuple'>\n",
      "[11, 22, 33, 44]\n",
      "<class 'list'>\n"
     ]
    }
   ],
   "source": [
    "t1 = (11,22,33,44)\n",
    "print(t1)\n",
    "print(type(t1))\n",
    "l1 = list(t1)\n",
    "print(l1)\n",
    "print(type(l1))"
   ]
  },
  {
   "cell_type": "markdown",
   "id": "6bdaf172",
   "metadata": {},
   "source": [
    "__16. Variables that \"contain\" list values are not necessarily lists themselves. Instead, what do they contain?__"
   ]
  },
  {
   "cell_type": "markdown",
   "id": "14b84eca",
   "metadata": {},
   "source": [
    "They contain references to list values."
   ]
  },
  {
   "cell_type": "markdown",
   "id": "95ad201d",
   "metadata": {},
   "source": [
    "__17. How do you distinguish between copy.copy() and copy.deepcopy()?__"
   ]
  },
  {
   "cell_type": "markdown",
   "id": "7489af15",
   "metadata": {},
   "source": [
    "copy.copy() ----> This returns the shallow copy of the list\n",
    "    \n",
    "In copy.copy(), a reference of object is copied in other object.\n",
    "\n",
    "It means that any changes made to a copy of object do reflect in the original object.\n",
    "\n",
    "In python, this is implemented using “copy()” function."
   ]
  },
  {
   "cell_type": "markdown",
   "id": "2c703f7e",
   "metadata": {},
   "source": [
    "copy.deepcopy() -----> This returns the deep copy of the list\n",
    "\n",
    "\n",
    "In copy.deepcopy, a copy of object is copied in other object.\n",
    "\n",
    "It means that any changes made to a copy of object do not reflect in the original object.\n",
    "\n",
    "In python, this is implemented using “deepcopy()” function."
   ]
  },
  {
   "cell_type": "code",
   "execution_count": null,
   "id": "a97ab651",
   "metadata": {},
   "outputs": [],
   "source": []
  },
  {
   "cell_type": "code",
   "execution_count": null,
   "id": "0c778f89",
   "metadata": {},
   "outputs": [],
   "source": []
  },
  {
   "cell_type": "code",
   "execution_count": null,
   "id": "475c589b",
   "metadata": {},
   "outputs": [],
   "source": []
  },
  {
   "cell_type": "code",
   "execution_count": null,
   "id": "ddb31249",
   "metadata": {},
   "outputs": [],
   "source": []
  },
  {
   "cell_type": "code",
   "execution_count": null,
   "id": "64e26143",
   "metadata": {},
   "outputs": [],
   "source": []
  },
  {
   "cell_type": "code",
   "execution_count": null,
   "id": "975bd037",
   "metadata": {},
   "outputs": [],
   "source": []
  },
  {
   "cell_type": "code",
   "execution_count": null,
   "id": "e9c2eb13",
   "metadata": {},
   "outputs": [],
   "source": []
  },
  {
   "cell_type": "code",
   "execution_count": null,
   "id": "db204983",
   "metadata": {},
   "outputs": [],
   "source": []
  },
  {
   "cell_type": "code",
   "execution_count": null,
   "id": "1823a604",
   "metadata": {},
   "outputs": [],
   "source": []
  },
  {
   "cell_type": "code",
   "execution_count": null,
   "id": "a0daad52",
   "metadata": {},
   "outputs": [],
   "source": []
  }
 ],
 "metadata": {
  "kernelspec": {
   "display_name": "Python 3 (ipykernel)",
   "language": "python",
   "name": "python3"
  },
  "language_info": {
   "codemirror_mode": {
    "name": "ipython",
    "version": 3
   },
   "file_extension": ".py",
   "mimetype": "text/x-python",
   "name": "python",
   "nbconvert_exporter": "python",
   "pygments_lexer": "ipython3",
   "version": "3.9.7"
  }
 },
 "nbformat": 4,
 "nbformat_minor": 5
}
