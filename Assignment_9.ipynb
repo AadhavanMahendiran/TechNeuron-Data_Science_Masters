{
 "cells": [
  {
   "cell_type": "markdown",
   "id": "1fd2d6ff",
   "metadata": {},
   "source": [
    "__1. To what does a relative path refer?__"
   ]
  },
  {
   "cell_type": "markdown",
   "id": "2bafcdd5",
   "metadata": {},
   "source": [
    "Relative path refers to current working directory."
   ]
  },
  {
   "cell_type": "markdown",
   "id": "2231d460",
   "metadata": {},
   "source": [
    "__2. What does an absolute path start with your operating system?__"
   ]
  },
  {
   "cell_type": "code",
   "execution_count": 5,
   "id": "eba9dc89",
   "metadata": {},
   "outputs": [
    {
     "data": {
      "text/plain": [
       "<module 'ntpath' from 'C:\\\\Users\\\\WELCOME\\\\anaconda3\\\\lib\\\\ntpath.py'>"
      ]
     },
     "execution_count": 5,
     "metadata": {},
     "output_type": "execute_result"
    }
   ],
   "source": [
    "import os\n",
    "os.path\n"
   ]
  },
  {
   "cell_type": "markdown",
   "id": "90b25a8f",
   "metadata": {},
   "source": [
    "Absolute path starts with root folder. here it is 'c:\\'"
   ]
  },
  {
   "cell_type": "markdown",
   "id": "0e5c4fa5",
   "metadata": {},
   "source": [
    "__3. What do the functions os.getcwd() and os.chdir() do?__"
   ]
  },
  {
   "cell_type": "markdown",
   "id": "8b4a9e00",
   "metadata": {},
   "source": [
    "os.getcwd() is to get the current working directory."
   ]
  },
  {
   "cell_type": "markdown",
   "id": "d81a4cd0",
   "metadata": {},
   "source": [
    " os.chdir() is used to change the current working directory."
   ]
  },
  {
   "cell_type": "markdown",
   "id": "a6aa567b",
   "metadata": {},
   "source": [
    "__4. What are the . and .. folders?__"
   ]
  },
  {
   "cell_type": "markdown",
   "id": "4abc9fd1",
   "metadata": {},
   "source": [
    "The . folder is the current folder, and .. is the parent folder."
   ]
  },
  {
   "cell_type": "markdown",
   "id": "2d8be7f2",
   "metadata": {},
   "source": [
    "__5. In C:\\bacon\\eggs\\spam.txt, which part is the dir name, and which part is the base name?__"
   ]
  },
  {
   "cell_type": "markdown",
   "id": "b6de7427",
   "metadata": {},
   "source": [
    "\"C:\\bacon\\eggs\" is direct name.\"spam.txt\" is a base name"
   ]
  },
  {
   "cell_type": "markdown",
   "id": "f0e42eb6",
   "metadata": {},
   "source": [
    "__6. What are the three “mode” arguments that can be passed to the open() function?__"
   ]
  },
  {
   "cell_type": "markdown",
   "id": "10bdcaf3",
   "metadata": {},
   "source": [
    "The string 'r' for read mode, 'w' for write mode, and 'a' for append mode"
   ]
  },
  {
   "cell_type": "markdown",
   "id": "127556f1",
   "metadata": {},
   "source": [
    "__7. What happens if an existing file is opened in write mode?__"
   ]
  },
  {
   "cell_type": "markdown",
   "id": "e8a72726",
   "metadata": {},
   "source": [
    "An existing file opened in write mode is erased and completely overwritten."
   ]
  },
  {
   "cell_type": "markdown",
   "id": "19495491",
   "metadata": {},
   "source": [
    "__8. How do you tell the difference between read() and readlines()?__"
   ]
  },
  {
   "cell_type": "markdown",
   "id": "321c4971",
   "metadata": {},
   "source": [
    "The read() method returns the file’s entire contents as a single string value. The readlines() method returns a list of strings, where each string is a line from the file’s contents."
   ]
  },
  {
   "cell_type": "markdown",
   "id": "882b2db7",
   "metadata": {},
   "source": [
    "__9. What data structure does a shelf value resemble?__"
   ]
  },
  {
   "cell_type": "markdown",
   "id": "c0767021",
   "metadata": {},
   "source": [
    "A shelf value resembles a dictionary value; it has keys and values, along with keys() and values() methods that work similarly to the dictionary methods of the same names."
   ]
  },
  {
   "cell_type": "code",
   "execution_count": null,
   "id": "c1e00cce",
   "metadata": {},
   "outputs": [],
   "source": []
  }
 ],
 "metadata": {
  "kernelspec": {
   "display_name": "Python 3 (ipykernel)",
   "language": "python",
   "name": "python3"
  },
  "language_info": {
   "codemirror_mode": {
    "name": "ipython",
    "version": 3
   },
   "file_extension": ".py",
   "mimetype": "text/x-python",
   "name": "python",
   "nbconvert_exporter": "python",
   "pygments_lexer": "ipython3",
   "version": "3.9.7"
  }
 },
 "nbformat": 4,
 "nbformat_minor": 5
}
