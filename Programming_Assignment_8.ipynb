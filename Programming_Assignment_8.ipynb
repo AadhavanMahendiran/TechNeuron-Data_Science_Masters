{
  "nbformat": 4,
  "nbformat_minor": 0,
  "metadata": {
    "colab": {
      "name": "Programming_Assignment_8.ipynb",
      "provenance": [],
      "collapsed_sections": []
    },
    "kernelspec": {
      "name": "python3",
      "display_name": "Python 3"
    },
    "language_info": {
      "name": "python"
    }
  },
  "cells": [
    {
      "cell_type": "code",
      "source": [
        "import os\n",
        "import logging"
      ],
      "metadata": {
        "id": "dgWerpAj0uUk"
      },
      "execution_count": null,
      "outputs": []
    },
    {
      "cell_type": "code",
      "source": [
        "logging_str = \"[%(asctime)s : %(levelname)s : %(module)s] : %(message)s\"\n",
        "log_dir = \"logs\"\n",
        "os.makedirs(log_dir, exist_ok= True)\n",
        "logging.basicConfig(filename = os.path.join(log_dir,\"running_logs.log\"),level = logging.INFO , format = logging_str )"
      ],
      "metadata": {
        "id": "TxmBcZfL0vMY"
      },
      "execution_count": null,
      "outputs": []
    },
    {
      "cell_type": "code",
      "source": [
        "logging.info(\"check - Info message is being loaded\")\n",
        "logging.error(\"check - Error message is being loaded\")\n",
        "logging.warning(\"check - warning\")"
      ],
      "metadata": {
        "id": "DWi9K7820vO3"
      },
      "execution_count": null,
      "outputs": []
    },
    {
      "cell_type": "code",
      "source": [
        "import numpy as np"
      ],
      "metadata": {
        "id": "DfkU2VfM0D_Y"
      },
      "execution_count": null,
      "outputs": []
    },
    {
      "cell_type": "markdown",
      "source": [
        "**1.Write a Python Program to Add Two Matrices?**\n",
        "\n"
      ],
      "metadata": {
        "id": "rswnsHs8zXgC"
      }
    },
    {
      "cell_type": "code",
      "source": [
        "x = np.array([[1,2,3],[4,5,6],[7,8,9]])   # 3*3 matrix\n",
        "print(x)\n",
        "y = np.array([[11,22,33],[44,55,66],[77,88,99]])  # 3*3 matrix\n",
        "print(y)\n",
        "\n",
        "result = np.array([[0,0,0],[0,0,0],[0,0,0]])\n",
        "\n",
        "\n",
        "for i in range(len(x)):\n",
        "  for j in range (len(x[0])):\n",
        "    result[i][j] = x[i][j] + y[i][j]\n",
        "\n",
        "print(f\"The matrix addition of a and b is{result}\")"
      ],
      "metadata": {
        "colab": {
          "base_uri": "https://localhost:8080/"
        },
        "id": "iiBTJ3ec0DtR",
        "outputId": "35646774-4cfe-49d0-c6bf-2520da38737c"
      },
      "execution_count": null,
      "outputs": [
        {
          "output_type": "stream",
          "name": "stdout",
          "text": [
            "[[1 2 3]\n",
            " [4 5 6]\n",
            " [7 8 9]]\n",
            "[[11 22 33]\n",
            " [44 55 66]\n",
            " [77 88 99]]\n",
            "The matrix addition of a and b is[[ 12  24  36]\n",
            " [ 48  60  72]\n",
            " [ 84  96 108]]\n"
          ]
        }
      ]
    },
    {
      "cell_type": "markdown",
      "source": [
        "**2.Write a Python Program to Multiply Two Matrices?**\n"
      ],
      "metadata": {
        "id": "wcp7WucIzql8"
      }
    },
    {
      "cell_type": "code",
      "source": [
        "x = np.array([[1,2,3],[4,5,6],[7,8,9]])\n",
        "print(a)\n",
        "y = np.array([[11,12,13,14],[21,22,23,24],[31,32,33,34]])\n",
        "print(b)\n",
        "\n",
        "result = np.array([[0,0,0,0],[0,0,0,0],[0,0,0,0]])\n",
        "\n",
        "for i in range(len(x)):\n",
        "  for j in range(len(y[0])):\n",
        "    for k in range(len(y)):\n",
        "      result[i][j] = x[i][k] * y[k][j]\n",
        "\n",
        "print(result)\n"
      ],
      "metadata": {
        "colab": {
          "base_uri": "https://localhost:8080/"
        },
        "id": "clOtS-_40HuZ",
        "outputId": "db8acfc3-2a75-47fc-92a3-9e3b38f2957e"
      },
      "execution_count": null,
      "outputs": [
        {
          "output_type": "stream",
          "name": "stdout",
          "text": [
            "[[1 2 3]\n",
            " [4 5 6]\n",
            " [7 8 9]]\n",
            "[[11 22 33]\n",
            " [44 55 66]\n",
            " [77 88 99]]\n",
            "[[ 93  96  99 102]\n",
            " [186 192 198 204]\n",
            " [279 288 297 306]]\n"
          ]
        }
      ]
    },
    {
      "cell_type": "markdown",
      "source": [
        "**3.Write a Python Program to Transpose a Matrix?**\n"
      ],
      "metadata": {
        "id": "XSdJB1I_zt-O"
      }
    },
    {
      "cell_type": "code",
      "source": [
        "x =  np.array([[1,2,3],[4,5,6]])\n",
        "print(x)\n",
        "\n",
        "result = np.array([[0,0],[0,0],[0,0]])\n",
        "print(result)\n",
        "\n",
        "for i in range(len(x)):\n",
        "  for j in range(len(x[0])) :\n",
        "    result[j][i] = x[i][j]\n",
        "\n",
        "print(result)\n"
      ],
      "metadata": {
        "colab": {
          "base_uri": "https://localhost:8080/"
        },
        "id": "jZppkLG6F3Pl",
        "outputId": "4ddd1a56-3138-429b-f3cd-611b64fc7f92"
      },
      "execution_count": null,
      "outputs": [
        {
          "output_type": "stream",
          "name": "stdout",
          "text": [
            "[[1 2 3]\n",
            " [4 5 6]]\n",
            "[[0 0]\n",
            " [0 0]\n",
            " [0 0]]\n",
            "[[1 4]\n",
            " [2 5]\n",
            " [3 6]]\n"
          ]
        }
      ]
    },
    {
      "cell_type": "code",
      "source": [
        "a = np.array([[1,2,3,4],[5,6,7,8]])\n",
        "a"
      ],
      "metadata": {
        "colab": {
          "base_uri": "https://localhost:8080/"
        },
        "id": "VtZ53K-e0ITN",
        "outputId": "9d8fc9e2-0fdc-4ba2-d707-c1cb4cff2206"
      },
      "execution_count": null,
      "outputs": [
        {
          "output_type": "execute_result",
          "data": {
            "text/plain": [
              "array([[1, 2, 3, 4],\n",
              "       [5, 6, 7, 8]])"
            ]
          },
          "metadata": {},
          "execution_count": 4
        }
      ]
    },
    {
      "cell_type": "code",
      "source": [
        "a.T"
      ],
      "metadata": {
        "colab": {
          "base_uri": "https://localhost:8080/"
        },
        "id": "4tBvW8Gp0VSR",
        "outputId": "a72a4687-9f9c-48a9-e8a0-3bd6c2b3bd7d"
      },
      "execution_count": null,
      "outputs": [
        {
          "output_type": "execute_result",
          "data": {
            "text/plain": [
              "array([[1, 5],\n",
              "       [2, 6],\n",
              "       [3, 7],\n",
              "       [4, 8]])"
            ]
          },
          "metadata": {},
          "execution_count": 5
        }
      ]
    },
    {
      "cell_type": "markdown",
      "source": [
        "**4.Write a Python Program to Sort Words in Alphabetic Order?**\n"
      ],
      "metadata": {
        "id": "kdcjOMGczwOn"
      }
    },
    {
      "cell_type": "code",
      "source": [
        "my_str = \"Hello this Is an Example With cased letters\"\n",
        "\n",
        "words = [word.lower() for word in my_str.split()]\n",
        "\n",
        "words.sort()\n",
        "\n",
        "for word in words:\n",
        "   print(word)"
      ],
      "metadata": {
        "colab": {
          "base_uri": "https://localhost:8080/"
        },
        "id": "BFB5RchTMXpx",
        "outputId": "d7fa0fe8-91f7-492d-8ecc-4142082202d6"
      },
      "execution_count": null,
      "outputs": [
        {
          "output_type": "stream",
          "name": "stdout",
          "text": [
            "an\n",
            "cased\n",
            "example\n",
            "hello\n",
            "is\n",
            "letters\n",
            "this\n",
            "with\n"
          ]
        }
      ]
    },
    {
      "cell_type": "markdown",
      "source": [
        "**5.Write a Python Program to Remove Punctuation From a String?**"
      ],
      "metadata": {
        "id": "qkVOlm5yzx9e"
      }
    },
    {
      "cell_type": "code",
      "source": [
        "punctuations = '''!()-[]{};:'\"\\,<>./?@#$%^&*_~'''\n",
        "\n",
        "my_str = \"Hello!!!, he said ---and went.\"\n",
        "\n",
        "no_punct = \"\"\n",
        "\n",
        "for i in my_str:\n",
        "  if i not in punctuations:\n",
        "    no_punct = no_punct + i\n",
        "    \n",
        "\n",
        "print(no_punct)"
      ],
      "metadata": {
        "colab": {
          "base_uri": "https://localhost:8080/"
        },
        "id": "9mQCORWWIazW",
        "outputId": "0b7adc8b-a1b6-447a-da36-89c2d2f1f298"
      },
      "execution_count": null,
      "outputs": [
        {
          "output_type": "stream",
          "name": "stdout",
          "text": [
            "Hello he said and went\n"
          ]
        }
      ]
    },
    {
      "cell_type": "code",
      "source": [
        ""
      ],
      "metadata": {
        "id": "1yTPYvF_Izp7"
      },
      "execution_count": null,
      "outputs": []
    }
  ]
}