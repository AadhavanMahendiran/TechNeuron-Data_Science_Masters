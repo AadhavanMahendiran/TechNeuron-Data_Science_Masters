{
 "cells": [
  {
   "cell_type": "code",
   "execution_count": 1,
   "id": "11e88ebd",
   "metadata": {},
   "outputs": [],
   "source": [
    "import os\n",
    "import logging"
   ]
  },
  {
   "cell_type": "code",
   "execution_count": 3,
   "id": "8ccea521",
   "metadata": {},
   "outputs": [],
   "source": [
    "logging_str = \"[%(asctime)s : %(levelname)s: %(module)s]: %(message)s\"\n",
    "log_dir = \"logs\"\n",
    "os.makedirs(log_dir, exist_ok = True)\n",
    "logging.basicConfig(filename = os.path.join(log_dir, \"running_logs.log\"), level = logging.INFO, format = logging_str,\n",
    "                   filemode = \"a\")"
   ]
  },
  {
   "cell_type": "code",
   "execution_count": 4,
   "id": "ab52f41a",
   "metadata": {},
   "outputs": [],
   "source": [
    "logging.info(\"check - Info message is being loaded\")\n",
    "logging.error(\"check - Error message is being loaded\")\n",
    "logging.warning(\"check - Warning!\")"
   ]
  },
  {
   "cell_type": "code",
   "execution_count": 6,
   "id": "49650be6",
   "metadata": {},
   "outputs": [],
   "source": [
    "import numpy as np"
   ]
  },
  {
   "cell_type": "markdown",
   "id": "f625ab47",
   "metadata": {},
   "source": [
    "### 1.\tWrite a Python Program to find sum of array?"
   ]
  },
  {
   "cell_type": "code",
   "execution_count": 17,
   "id": "9b44f785",
   "metadata": {},
   "outputs": [],
   "source": [
    "logging.info(\" This is function to find the sum of the array\")\n",
    "def find_sum(arr):\n",
    "    try :\n",
    "        sum = 0\n",
    "        for i in arr:\n",
    "            sum = sum + i\n",
    "        return sum\n",
    "    \n",
    "    except Exception as e:\n",
    "        print(f\"There is error in this code {e}\")\n",
    "        logging.error(\"There is error in this code\")\n",
    "    \n",
    "    else :\n",
    "        print(\"This code can be excecuted\")\n",
    "        \n",
    "        \n",
    "    \n",
    "    "
   ]
  },
  {
   "cell_type": "code",
   "execution_count": 18,
   "id": "4123bad2",
   "metadata": {},
   "outputs": [
    {
     "data": {
      "text/plain": [
       "10"
      ]
     },
     "execution_count": 18,
     "metadata": {},
     "output_type": "execute_result"
    }
   ],
   "source": [
    "logging.info(\"Exceuting the sum of the array function\")\n",
    "find_sum([1,2,3,4])"
   ]
  },
  {
   "cell_type": "markdown",
   "id": "74e9352c",
   "metadata": {},
   "source": [
    "### 2.\tWrite a Python Program to find largest element in an array?"
   ]
  },
  {
   "cell_type": "code",
   "execution_count": 4,
   "id": "2ac5f2ad",
   "metadata": {},
   "outputs": [
    {
     "data": {
      "text/plain": [
       "5"
      ]
     },
     "execution_count": 4,
     "metadata": {},
     "output_type": "execute_result"
    }
   ],
   "source": [
    "a = np.array([1,2,3,4,5])\n",
    "a.max()"
   ]
  },
  {
   "cell_type": "markdown",
   "id": "63a43bac",
   "metadata": {},
   "source": [
    "### 3.\tWrite a Python Program for array rotation?"
   ]
  },
  {
   "cell_type": "code",
   "execution_count": 11,
   "id": "d68ac87c",
   "metadata": {},
   "outputs": [
    {
     "name": "stdout",
     "output_type": "stream",
     "text": [
      "[[1 2 3 4]\n",
      " [5 6 7 8]]\n",
      "This is array rotaion\n",
      "[[1 5]\n",
      " [2 6]\n",
      " [3 7]\n",
      " [4 8]]\n"
     ]
    }
   ],
   "source": [
    "z = np.array([[1,2,3,4],[5,6,7,8]])\n",
    "print(z)\n",
    "print(\"This is array rotaion\")\n",
    "print(z.T)"
   ]
  },
  {
   "cell_type": "markdown",
   "id": "0ec477a1",
   "metadata": {},
   "source": [
    "### 4.\tWrite a Python Program to Split the array and add the first part to the end?"
   ]
  },
  {
   "cell_type": "code",
   "execution_count": 9,
   "id": "f1082437",
   "metadata": {},
   "outputs": [
    {
     "name": "stdout",
     "output_type": "stream",
     "text": [
      "15 16 50 36 15 40 "
     ]
    }
   ],
   "source": [
    "def SplitArray(arr, n, k):\n",
    "    for i in range(0, k):\n",
    "        x = arr[0]\n",
    "        for j in range(0, n-1):\n",
    "            arr[j] = arr[j + 1]\n",
    "\n",
    "        arr[n-1] = x\n",
    "arr = [15, 40, 15, 16, 50, 36]\n",
    "n = len(arr)\n",
    "position = 2\n",
    "SplitArray(arr, n, position)\n",
    "for i in range(0, n):\n",
    "    print(arr[i], end = ' ')"
   ]
  },
  {
   "cell_type": "markdown",
   "id": "110ec384",
   "metadata": {},
   "source": [
    "### 5.\tWrite a Python Program to check if given array is Monotonic?"
   ]
  },
  {
   "cell_type": "markdown",
   "id": "d0a8d515",
   "metadata": {},
   "source": [
    "__If either array monotonously increasing or monotonously decreasing is known as Monotonic__"
   ]
  },
  {
   "cell_type": "code",
   "execution_count": 4,
   "id": "04038266",
   "metadata": {},
   "outputs": [
    {
     "name": "stdout",
     "output_type": "stream",
     "text": [
      "True\n"
     ]
    }
   ],
   "source": [
    "def isMonotonic(A):\n",
    "    return (all(A[i] <= A[i + 1] for i in range(len(A) - 1)) or\n",
    "      all(A[i] >= A[i + 1] for i in range(len(A) - 1)))\n",
    "\n",
    "A = [1,2,3,4,5,6,7,8]\n",
    "print(isMonotonic(A))"
   ]
  },
  {
   "cell_type": "code",
   "execution_count": null,
   "id": "13ac67ca",
   "metadata": {},
   "outputs": [],
   "source": []
  }
 ],
 "metadata": {
  "kernelspec": {
   "display_name": "Python 3 (ipykernel)",
   "language": "python",
   "name": "python3"
  },
  "language_info": {
   "codemirror_mode": {
    "name": "ipython",
    "version": 3
   },
   "file_extension": ".py",
   "mimetype": "text/x-python",
   "name": "python",
   "nbconvert_exporter": "python",
   "pygments_lexer": "ipython3",
   "version": "3.9.7"
  }
 },
 "nbformat": 4,
 "nbformat_minor": 5
}
