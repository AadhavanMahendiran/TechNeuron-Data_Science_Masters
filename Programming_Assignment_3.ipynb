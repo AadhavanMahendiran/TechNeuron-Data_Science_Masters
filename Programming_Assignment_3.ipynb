{
 "cells": [
  {
   "cell_type": "code",
   "execution_count": 1,
   "id": "22431332",
   "metadata": {},
   "outputs": [],
   "source": [
    "import os\n",
    "import logging"
   ]
  },
  {
   "cell_type": "code",
   "execution_count": 2,
   "id": "09eadf71",
   "metadata": {},
   "outputs": [],
   "source": [
    "logging.basicConfig(filename = \"logger.log\", level = logging.INFO,\n",
    "                   format = \"%(asctime)s%(message)s\")"
   ]
  },
  {
   "cell_type": "code",
   "execution_count": 3,
   "id": "a9b00338",
   "metadata": {},
   "outputs": [],
   "source": [
    "logging.info(\"check - Info message is being loaded\")\n",
    "logging.error(\"check - Error message is being loaded\")\n",
    "logging.warning(\"check - Warning!\")"
   ]
  },
  {
   "cell_type": "markdown",
   "id": "d6840e3c",
   "metadata": {},
   "source": [
    "__1.\tWrite a Python Program to Check if a Number is Positive, Negative or Zero?__"
   ]
  },
  {
   "cell_type": "code",
   "execution_count": 28,
   "id": "1a98ea21",
   "metadata": {},
   "outputs": [],
   "source": [
    "class checknumber:\n",
    "    logging.info(\"creating the class checknumber\")\n",
    "    \n",
    "    def __init__(self):\n",
    "        self.a = int(input(\"give the number here : \"))\n",
    "        \n",
    "    def check_number(self):\n",
    "        \n",
    "        try:\n",
    "            if self.a > 0 :\n",
    "                print(f\"This is positive Number : {self.a}\")\n",
    "            elif self.a < 0 :\n",
    "                print(f\"This is Negative Number : {self.a}\")\n",
    "            else:\n",
    "                print(f\"This is Zero\")\n",
    "            \n",
    "        except Exception as e:\n",
    "            print(\"The error in the code is \", e)\n",
    "            logging.error(\"There is a error\")\n",
    "\n",
    "        else:\n",
    "            print(\"The code got excecuted\")\n",
    "            \n",
    "    def __str__(self):\n",
    "        return(\"This class is created to check the number\")\n"
   ]
  },
  {
   "cell_type": "code",
   "execution_count": 37,
   "id": "93bfedd7",
   "metadata": {},
   "outputs": [
    {
     "name": "stdout",
     "output_type": "stream",
     "text": [
      "give the number here : 3\n",
      "This is positive Number : 3\n",
      "The code got excecuted\n",
      "None\n",
      "This class is created to check the number\n"
     ]
    }
   ],
   "source": [
    "logging.info(\"using the class checknumber\")\n",
    "\n",
    "z = checknumber()\n",
    "print(z.check_number())\n",
    "print(z)"
   ]
  },
  {
   "cell_type": "markdown",
   "id": "bcf15c9a",
   "metadata": {},
   "source": [
    "__2.\tWrite a Python Program to Check if a Number is Odd or Even?__"
   ]
  },
  {
   "cell_type": "code",
   "execution_count": 34,
   "id": "5fc4959c",
   "metadata": {},
   "outputs": [],
   "source": [
    "class odd_or_even:\n",
    "    logging.info(\"creating class to find odd or even\")\n",
    "    \n",
    "    def __init__(self):\n",
    "        self.a = int(input(\"give the number here : \"))\n",
    "        \n",
    "    def check_it(self):\n",
    "        try:\n",
    "            if self.a % 2 == 0:\n",
    "                print(f\"The given Number {self.a} is Even\")\n",
    "            else:\n",
    "                print(f\"The given Number {self.a} is Odd\")\n",
    "        \n",
    "        except Exception as e:\n",
    "            print(f\"The error in the code is {e}\")\n",
    "            logging.error(\"Error alert!\")\n",
    "            \n",
    "        else:\n",
    "            print(\"The code got excecuted\")\n",
    "            \n",
    "    def __str__ (self):\n",
    "        return (\"This class created to ind whether the number is oddd or even\")"
   ]
  },
  {
   "cell_type": "code",
   "execution_count": 36,
   "id": "6a7ef1e7",
   "metadata": {},
   "outputs": [
    {
     "name": "stdout",
     "output_type": "stream",
     "text": [
      "give the number here : 4\n",
      "The given Number 4 is Even\n",
      "The code got excecuted\n",
      "None\n",
      "This class created to ind whether the number is oddd or even\n"
     ]
    }
   ],
   "source": [
    "logging.info(\"Testing the odd_or_even class\")\n",
    "\n",
    "y = odd_or_even()\n",
    "print(y.check_it())\n",
    "print(y)\n"
   ]
  },
  {
   "cell_type": "markdown",
   "id": "5a235cb4",
   "metadata": {},
   "source": [
    "__3.\tWrite a Python Program to Check Leap Year?__"
   ]
  },
  {
   "cell_type": "code",
   "execution_count": 48,
   "id": "e5e2db8b",
   "metadata": {},
   "outputs": [],
   "source": [
    "class leapyear:\n",
    "    logging.info(\"class leap year is created\")\n",
    "    \n",
    "    def __init__(self):\n",
    "        self.a = int(input(\"give the year number here : \"))\n",
    "        \n",
    "    def check_leapyear(self):\n",
    "        try:\n",
    "            if (self.a % 400 == 0) and (self.a % 100 == 0):\n",
    "                print(f\"This {self.a} leap year\")\n",
    "            elif (self.a % 4 == 0) and (self.a % 100 != 0):\n",
    "                print(f\"This {self.a} is a leap year\")\n",
    "            else:\n",
    "                print(f\"This {self.a} not a Leap Year \")\n",
    "        \n",
    "        except Exception as e:\n",
    "            print(\"There is error in this code\")\n",
    "            \n",
    "        else:\n",
    "            print(\"The code is got excecuted\")\n",
    "                \n",
    "    def __str__ (self):\n",
    "        return (\"This class is created to chek whether it is leap year or not\")"
   ]
  },
  {
   "cell_type": "code",
   "execution_count": 49,
   "id": "cb186632",
   "metadata": {},
   "outputs": [
    {
     "name": "stdout",
     "output_type": "stream",
     "text": [
      "give the year number here : 1786\n",
      "This 1786 not a Leap Year \n",
      "The code is got excecuted\n",
      "None\n",
      "This class is created to chek whether it is leap year or not\n"
     ]
    }
   ],
   "source": [
    "logging.info(\"testing the class leapyear\")\n",
    "\n",
    "z = leapyear()\n",
    "print(z.check_leapyear())\n",
    "print(z)"
   ]
  },
  {
   "cell_type": "markdown",
   "id": "7154c529",
   "metadata": {},
   "source": [
    "__4.\tWrite a Python Program to Check Prime Number?__"
   ]
  },
  {
   "cell_type": "code",
   "execution_count": 26,
   "id": "86ce39a1",
   "metadata": {},
   "outputs": [],
   "source": [
    "class primeNumber:\n",
    "    \n",
    "    def __init__ (self):\n",
    "        self.num = int(input(\"Give the number to find whether it is prime or not ?\"))\n",
    "        \n",
    "    def check_prime(self):\n",
    "        if self.num > 1:\n",
    "            for i in range(2,self.num):\n",
    "                if (self.num % i) == 0:\n",
    "                    print(f\"The number {self.num} is not a prime number\")\n",
    "                    break\n",
    "                else:\n",
    "                    print(f\"The number {self.num} is a prime Number\")\n",
    "                    break\n",
    "        \n",
    "        else:\n",
    "            print(f\"The given Number {self.num} is not a prime Number\")\n",
    "    \n",
    "    def __str__ (self):\n",
    "        return (\"This is class created to check the Prime Number\")"
   ]
  },
  {
   "cell_type": "code",
   "execution_count": 28,
   "id": "44d29d49",
   "metadata": {},
   "outputs": [
    {
     "name": "stdout",
     "output_type": "stream",
     "text": [
      "Give the number to find whether it is prime or not ?21\n",
      "The number 21 is a prime Number\n"
     ]
    }
   ],
   "source": [
    "z = primeNumber()\n",
    "z.check_prime()"
   ]
  },
  {
   "cell_type": "markdown",
   "id": "36c117cc",
   "metadata": {},
   "source": [
    "__5.\tWrite a Python Program to Print all Prime Numbers in an Interval of 1-10000?__"
   ]
  },
  {
   "cell_type": "code",
   "execution_count": 28,
   "id": "d163fa8b",
   "metadata": {},
   "outputs": [],
   "source": [
    "class prime_number:\n",
    "    def __init__(self):\n",
    "        self.higher=int(input())\n",
    "        self.lower=int(input())\n",
    "    def to_find_prime(self):\n",
    "#         self.lower = int(input(\"Give the lower range number :\"))\n",
    "#         self.higher = int(input(\"Give the Higher range number :\"))\n",
    "        for num in range (self.lower,self.higher + 1):\n",
    "            if num > 1:\n",
    "                for i in range(2, num):\n",
    "                    if (num % i ) == 0:\n",
    "                        break\n",
    "                else:\n",
    "                    print(num)"
   ]
  },
  {
   "cell_type": "code",
   "execution_count": 1,
   "id": "541b8f6d",
   "metadata": {},
   "outputs": [],
   "source": [
    "class prime_number:\n",
    "    \n",
    "    def __init___ (self):\n",
    "        pass\n",
    "        #self.lower = int(input(\"Give the lower range number :\"))\n",
    "        #self.higher = int(input(\"Give the Higher range number :\"))\n",
    "        \n",
    "    def to_find_prime(self):\n",
    "        self.lower = int(input(\"Give the lower range number :\"))\n",
    "        self.higher = int(input(\"Give the Higher range number :\"))\n",
    "        for num in range (self.lower,self.higher + 1):\n",
    "            if num > 1:\n",
    "                for i in range(2, num):\n",
    "                    if (num % i ) == 0:\n",
    "                        break\n",
    "                else:\n",
    "                    print(num)\n",
    "                    \n",
    "    def __str__ (self):\n",
    "        return (\"This class is created to find the prime number in the range \")"
   ]
  },
  {
   "cell_type": "code",
   "execution_count": 2,
   "id": "023d97da",
   "metadata": {},
   "outputs": [
    {
     "name": "stdout",
     "output_type": "stream",
     "text": [
      "Give the lower range number :100\n",
      "Give the Higher range number :200\n",
      "101\n",
      "103\n",
      "107\n",
      "109\n",
      "113\n",
      "127\n",
      "131\n",
      "137\n",
      "139\n",
      "149\n",
      "151\n",
      "157\n",
      "163\n",
      "167\n",
      "173\n",
      "179\n",
      "181\n",
      "191\n",
      "193\n",
      "197\n",
      "199\n"
     ]
    }
   ],
   "source": [
    "z = prime_number()\n",
    "z.to_find_prime()"
   ]
  },
  {
   "cell_type": "code",
   "execution_count": 12,
   "id": "60732ab1",
   "metadata": {},
   "outputs": [
    {
     "name": "stdout",
     "output_type": "stream",
     "text": [
      "Lower range to find prime Number : 10\n",
      "Higher range to find prime Number : 20\n",
      "11\n",
      "13\n",
      "17\n",
      "19\n"
     ]
    }
   ],
   "source": [
    "a = int(input(\"Lower range to find prime Number : \"))\n",
    "b = int(input(\"Higher range to find prime Number : \"))\n",
    "for num in range (a,b+1):\n",
    "    if num > 1:\n",
    "        for i in range(2,num):\n",
    "            if (num % i) == 0:\n",
    "                break\n",
    "        else:\n",
    "            print(num)\n",
    "                \n",
    "    "
   ]
  },
  {
   "cell_type": "code",
   "execution_count": null,
   "id": "30dbb1d1",
   "metadata": {},
   "outputs": [],
   "source": []
  }
 ],
 "metadata": {
  "kernelspec": {
   "display_name": "Python 3 (ipykernel)",
   "language": "python",
   "name": "python3"
  },
  "language_info": {
   "codemirror_mode": {
    "name": "ipython",
    "version": 3
   },
   "file_extension": ".py",
   "mimetype": "text/x-python",
   "name": "python",
   "nbconvert_exporter": "python",
   "pygments_lexer": "ipython3",
   "version": "3.9.7"
  }
 },
 "nbformat": 4,
 "nbformat_minor": 5
}
