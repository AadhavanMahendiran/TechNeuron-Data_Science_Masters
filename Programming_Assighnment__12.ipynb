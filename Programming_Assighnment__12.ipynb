{
 "cells": [
  {
   "cell_type": "markdown",
   "id": "83bdecd1",
   "metadata": {},
   "source": [
    "__1.Write a Python program to Extract Unique values dictionary values?__"
   ]
  },
  {
   "cell_type": "code",
   "execution_count": 26,
   "id": "1113287d",
   "metadata": {},
   "outputs": [
    {
     "name": "stdout",
     "output_type": "stream",
     "text": [
      "The original dictionary is :  {'A': [1, 3, 5, 4], 'B': [4, 6, 8, 10], 'C': [6, 12, 4, 8], 'D': [5, 7, 2]}\n",
      "The unique values list is :  [1, 2, 3, 4, 5, 6, 7, 8, 10, 12]\n"
     ]
    }
   ],
   "source": [
    "dict1 = {'A' : [1, 3, 5, 4],\n",
    "             'B' : [4, 6, 8, 10],\n",
    "             'C' : [6, 12, 4 ,8],\n",
    "             'D' : [5, 7, 2]}\n",
    "\n",
    "print(\"The original dictionary is : \" ,dict1)\n",
    "  \n",
    "# Extracting unique values\n",
    "res = list(sorted({ele for val in dict1.values() for ele in val}))\n",
    "  \n",
    "# print result \n",
    "print(\"The unique values list is : \" , res) "
   ]
  },
  {
   "cell_type": "markdown",
   "id": "9aa72489",
   "metadata": {},
   "source": [
    "__2.Write a Python program to find the sum of all items in a dictionary?__"
   ]
  },
  {
   "cell_type": "code",
   "execution_count": 29,
   "id": "196d5021",
   "metadata": {},
   "outputs": [
    {
     "name": "stdout",
     "output_type": "stream",
     "text": [
      "The sum of the dictionary is 866\n"
     ]
    }
   ],
   "source": [
    "def sum(dic):\n",
    "    try:\n",
    "        sum = 0\n",
    "        for i in dic.values():\n",
    "            sum = sum + i\n",
    "        return sum\n",
    "    except Exception as e:\n",
    "        print(\"There is a error in this msg\")\n",
    "    else:\n",
    "        print(\"This code is succesfully excecuted\")\n",
    "\n",
    "dic = {\"A\":123, \"B\": 345, \"C\": 398}\n",
    "\n",
    "print(\"The sum of the dictionary is\", sum(dic))\n",
    "        "
   ]
  },
  {
   "cell_type": "markdown",
   "id": "32edfb8a",
   "metadata": {},
   "source": [
    "__3.Write a Python program to Merging two Dictionaries?__"
   ]
  },
  {
   "cell_type": "code",
   "execution_count": 38,
   "id": "b533df80",
   "metadata": {},
   "outputs": [
    {
     "name": "stdout",
     "output_type": "stream",
     "text": [
      "MERGED: \n",
      "{'x': 4, 'y': 8, 'z': 5, 1: 8, 2: 6}\n"
     ]
    }
   ],
   "source": [
    "dic1= {'x': 3, 'y' : 8, 'z': 5 }\n",
    "dic2= {1: 8, 'x': 4, 2: 6}\n",
    "\n",
    "merge_dic = {**dic1, **dic2}\n",
    "\n",
    "print(\"MERGED: \")\n",
    "print(merge_dic)"
   ]
  },
  {
   "cell_type": "markdown",
   "id": "e487b873",
   "metadata": {},
   "source": [
    "__4.Write a Python program to convert key-values list to flat dictionary?__"
   ]
  },
  {
   "cell_type": "code",
   "execution_count": 42,
   "id": "1473d143",
   "metadata": {},
   "outputs": [
    {
     "name": "stdout",
     "output_type": "stream",
     "text": [
      "Original_dictionary {'day': [1, 2, 3], 'name': ['Mon', 'Tue', 'Wed']}\n",
      "Flat dictionary : {1: 'Mon', 2: 'Tue', 3: 'Wed'}\n"
     ]
    }
   ],
   "source": [
    "dic = {\"day\" : [1,2,3] , \"name\" : [\"Mon\",\"Tue\",\"Wed\"]}\n",
    "print(\"Original_dictionary\", dic)\n",
    "\n",
    "f_dic = dict(zip(dic[\"day\"],dic[\"name\"]))\n",
    "print(\"Flat dictionary :\", f_dic)"
   ]
  },
  {
   "cell_type": "markdown",
   "id": "30a93ab7",
   "metadata": {},
   "source": [
    "__5.Write a Python program to insertion at the beginning in OrderedDict?__"
   ]
  },
  {
   "cell_type": "code",
   "execution_count": 22,
   "id": "8cbe851e",
   "metadata": {},
   "outputs": [
    {
     "name": "stdout",
     "output_type": "stream",
     "text": [
      "OrderedDict([('D', '40'), ('A', '10'), ('B', '20'), ('C', '30')])\n"
     ]
    }
   ],
   "source": [
    "from collections import OrderedDict\n",
    "\n",
    "dict1 = OrderedDict([(\"A\", \"10\"),(\"B\", \"20\"),(\"C\", \"30\")])\n",
    "insrt = OrderedDict([(\"D\", \"40\")])\n",
    "\n",
    "final = OrderedDict(list(insrt.items()) + list(dict1.items()))\n",
    "\n",
    "\n",
    "print(final)"
   ]
  },
  {
   "cell_type": "markdown",
   "id": "78292c56",
   "metadata": {},
   "source": [
    "__6.Write a Python program to check order of character in string using OrderedDict()?__"
   ]
  },
  {
   "cell_type": "code",
   "execution_count": 28,
   "id": "5cb09280",
   "metadata": {},
   "outputs": [
    {
     "name": "stdout",
     "output_type": "stream",
     "text": [
      "True\n",
      "False\n"
     ]
    }
   ],
   "source": [
    "from collections import OrderedDict\n",
    "\n",
    "def check_order(string,pattern):\n",
    "    dic = OrderedDict.fromkeys(string)\n",
    "    ptr = 0\n",
    "    for key,value in dic.items():\n",
    "        if (key == pattern[ptr]):\n",
    "            ptr = ptr + 1\n",
    "        if (ptr == (len(pattern))):\n",
    "            return \"True\"\n",
    "    return \"False\"\n",
    "\n",
    "string = \"Childrens of heaven\"\n",
    "pattern = \"Chd\"\n",
    "print(check_order(string, pattern))\n",
    "    \n",
    "string = \"Welcome\"\n",
    "pattern = \"ce\"\n",
    "print(check_order(string, pattern))    "
   ]
  },
  {
   "cell_type": "markdown",
   "id": "60b69525",
   "metadata": {},
   "source": [
    "__7.Write a Python program to sort Python Dictionaries by Key or Value?__"
   ]
  },
  {
   "cell_type": "code",
   "execution_count": 9,
   "id": "eeac357c",
   "metadata": {},
   "outputs": [
    {
     "name": "stdout",
     "output_type": "stream",
     "text": [
      "(1, 43) (2, 9) (3, 8) (4, 23) (5, 10) (6, 77) "
     ]
    }
   ],
   "source": [
    "key_value={}\n",
    "\n",
    "key_value[5] = 10      \n",
    "key_value[3] = 8\n",
    "key_value[6] = 77\n",
    "key_value[4] = 23\n",
    "key_value[2] = 9     \n",
    "key_value[1] = 43\n",
    "\n",
    "# print(sorted(key_value))\n",
    "\n",
    "for i in sorted(key_value) :\n",
    "    print ((i, key_value[i]), end = \" \")"
   ]
  }
 ],
 "metadata": {
  "kernelspec": {
   "display_name": "Python 3 (ipykernel)",
   "language": "python",
   "name": "python3"
  },
  "language_info": {
   "codemirror_mode": {
    "name": "ipython",
    "version": 3
   },
   "file_extension": ".py",
   "mimetype": "text/x-python",
   "name": "python",
   "nbconvert_exporter": "python",
   "pygments_lexer": "ipython3",
   "version": "3.9.7"
  }
 },
 "nbformat": 4,
 "nbformat_minor": 5
}
