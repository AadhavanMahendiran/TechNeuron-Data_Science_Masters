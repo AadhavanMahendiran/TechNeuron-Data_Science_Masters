{
 "cells": [
  {
   "cell_type": "code",
   "execution_count": 22,
   "id": "415ec553",
   "metadata": {},
   "outputs": [],
   "source": [
    "import os\n",
    "import logging"
   ]
  },
  {
   "cell_type": "code",
   "execution_count": 23,
   "id": "12087c7e",
   "metadata": {},
   "outputs": [],
   "source": [
    "logging_str = \"[%(asctime)s : %(levelname)s : %(modules)s] : %(messages)s\"\n",
    "log_dir = \"log\"\n",
    "os.makedirs(log_dir, exist_ok = True)\n",
    "logging.basicConfig(filename = os.path.join(log_dir, \"running_logs.log\"), level = logging.INFO, format = logging_str)"
   ]
  },
  {
   "cell_type": "markdown",
   "id": "3497cd28",
   "metadata": {},
   "source": [
    "__1.Write a Python program to find sum of elements in list?__"
   ]
  },
  {
   "cell_type": "code",
   "execution_count": 31,
   "id": "b6c79b78",
   "metadata": {},
   "outputs": [],
   "source": [
    "class num :\n",
    "    def __init__(self,l):\n",
    "        self.l = l\n",
    "        \n",
    "    def sum_list(self):\n",
    "        try:\n",
    "            sum_numbers = 0\n",
    "            for i in self.l:\n",
    "                sum_numbers += i\n",
    "            return sum_numbers\n",
    "        \n",
    "        except Exception as e :\n",
    "            print(\"The error in this code\", e)\n",
    "        \n",
    "        else :\n",
    "             print(\"The program exceuted\")\n",
    "                "
   ]
  },
  {
   "cell_type": "code",
   "execution_count": 35,
   "id": "2c3e8dde",
   "metadata": {},
   "outputs": [
    {
     "data": {
      "text/plain": [
       "21"
      ]
     },
     "execution_count": 35,
     "metadata": {},
     "output_type": "execute_result"
    }
   ],
   "source": [
    "find = num([1,2,3,4,5,6])\n",
    "find.sum_list()"
   ]
  },
  {
   "cell_type": "markdown",
   "id": "3a4afc3e",
   "metadata": {},
   "source": [
    "__2.Write a Python program to  Multiply all numbers in the list?__"
   ]
  },
  {
   "cell_type": "code",
   "execution_count": 58,
   "id": "54752297",
   "metadata": {},
   "outputs": [
    {
     "data": {
      "text/plain": [
       "120"
      ]
     },
     "execution_count": 58,
     "metadata": {},
     "output_type": "execute_result"
    }
   ],
   "source": [
    "def multiply_num(l):\n",
    "    mul = 1\n",
    "    for i in l:\n",
    "        mul = mul * i\n",
    "    return mul\n",
    "   \n",
    "multiply_num([1,2,3,4,5])"
   ]
  },
  {
   "cell_type": "raw",
   "id": "ca4c7579",
   "metadata": {},
   "source": [
    "class number :\n",
    "    def __init__(self,l):\n",
    "        self.l = l\n",
    "        \n",
    "        \n",
    "    def find_multiply_in_list(self):\n",
    "        \n",
    "        try:\n",
    "            mul = 1\n",
    "            for i in self.l:\n",
    "                mul = mul * self.l\n",
    "            return mul\n",
    "        \n",
    "        \n",
    "        except Exception as e:\n",
    "            print(f\"The error in this code is {e}\")\n",
    "            \n",
    "        else:\n",
    "            print(\"The code is excecuted\")"
   ]
  },
  {
   "cell_type": "markdown",
   "id": "4fc39630",
   "metadata": {},
   "source": [
    "z = number([1,2,3,4,5])\n",
    "z.find_multiply_in_list()"
   ]
  },
  {
   "cell_type": "markdown",
   "id": "9e6de015",
   "metadata": {},
   "source": [
    "__3.Write a Python program to find smallest number in a list?__"
   ]
  },
  {
   "cell_type": "code",
   "execution_count": 2,
   "id": "35d1dadb",
   "metadata": {},
   "outputs": [
    {
     "data": {
      "text/plain": [
       "1"
      ]
     },
     "execution_count": 2,
     "metadata": {},
     "output_type": "execute_result"
    }
   ],
   "source": [
    "l = [23,1,234,54,2,5,64]\n",
    "min(l)"
   ]
  },
  {
   "cell_type": "markdown",
   "id": "a5d326ba",
   "metadata": {},
   "source": [
    "__4.Write a Python program to find largest number in a list?__"
   ]
  },
  {
   "cell_type": "code",
   "execution_count": 3,
   "id": "4e8adee5",
   "metadata": {},
   "outputs": [
    {
     "data": {
      "text/plain": [
       "234"
      ]
     },
     "execution_count": 3,
     "metadata": {},
     "output_type": "execute_result"
    }
   ],
   "source": [
    "l = [23,1,234,54,2,5,64]\n",
    "max(l)"
   ]
  },
  {
   "cell_type": "markdown",
   "id": "5d2cd43d",
   "metadata": {},
   "source": [
    "__5.Write a Python program to find second largest number in a list?__"
   ]
  },
  {
   "cell_type": "code",
   "execution_count": 11,
   "id": "4cc57143",
   "metadata": {},
   "outputs": [
    {
     "name": "stdout",
     "output_type": "stream",
     "text": [
      "[1, 2, 5, 23, 54, 64, 234]\n"
     ]
    },
    {
     "data": {
      "text/plain": [
       "64"
      ]
     },
     "execution_count": 11,
     "metadata": {},
     "output_type": "execute_result"
    }
   ],
   "source": [
    "l = [23,1,234,54,2,5,64]\n",
    "l.sort()\n",
    "print(l)\n",
    "l[-2]"
   ]
  },
  {
   "cell_type": "markdown",
   "id": "028b8089",
   "metadata": {},
   "source": [
    "__6.Write a Python program to find N largest elements from a list?__"
   ]
  },
  {
   "cell_type": "code",
   "execution_count": 33,
   "id": "e8a4b8a0",
   "metadata": {},
   "outputs": [
    {
     "name": "stdout",
     "output_type": "stream",
     "text": [
      "2 max elements in  [2, 6, 41, 85, 0, 3, 7, 6, 10]\n",
      "[85, 41]\n"
     ]
    }
   ],
   "source": [
    "def N_max_elements(list, N):\n",
    "    result_list = []\n",
    "  \n",
    "    for i in range(0, N): \n",
    "        maximum = 0\n",
    "          \n",
    "        for j in range(len(list)):     \n",
    "            if list[j] > maximum:\n",
    "                maximum = list[j]\n",
    "                  \n",
    "        list.remove(maximum)\n",
    "        result_list.append(maximum)\n",
    "          \n",
    "    return result_list\n"
   ]
  },
  {
   "cell_type": "code",
   "execution_count": 34,
   "id": "f4f610e5",
   "metadata": {},
   "outputs": [
    {
     "name": "stdout",
     "output_type": "stream",
     "text": [
      "2 max elements in  [2, 6, 41, 85, 0, 3, 7, 6, 10]\n",
      "[85, 41]\n"
     ]
    }
   ],
   "source": [
    "list1 = [2, 6, 41, 85, 0, 3, 7, 6, 10]\n",
    "N = 2\n",
    "\n",
    "print(N, \"max elements in \",list1)\n",
    "  \n",
    "print(N_max_elements(list1, N))"
   ]
  },
  {
   "cell_type": "markdown",
   "id": "b0a81eaf",
   "metadata": {},
   "source": [
    "__7.Write a Python program to print even numbers in a list?__"
   ]
  },
  {
   "cell_type": "code",
   "execution_count": 18,
   "id": "bb3302dc",
   "metadata": {},
   "outputs": [
    {
     "name": "stdout",
     "output_type": "stream",
     "text": [
      "2 4 6 8 "
     ]
    }
   ],
   "source": [
    "list1 = [1,2,3,4,5,6,7,8,9]\n",
    "\n",
    "for i in list1 :\n",
    "    if i % 2 == 0:\n",
    "        print(i,end=\" \")"
   ]
  },
  {
   "cell_type": "markdown",
   "id": "79635397",
   "metadata": {},
   "source": [
    "__8.Write a Python program to print odd numbers in a List?__"
   ]
  },
  {
   "cell_type": "code",
   "execution_count": 5,
   "id": "6db0ec5b",
   "metadata": {},
   "outputs": [
    {
     "name": "stdout",
     "output_type": "stream",
     "text": [
      "1 3 5 7 9 "
     ]
    }
   ],
   "source": [
    "list1 = [1,2,3,4,5,6,7,8,9]\n",
    "\n",
    "for i in list1 :\n",
    "    if i % 2 != 0 :\n",
    "        print(i,end=\" \")\n",
    "    "
   ]
  },
  {
   "cell_type": "markdown",
   "id": "146fa902",
   "metadata": {},
   "source": [
    "__9.Write a Python program to Remove empty List from List?__"
   ]
  },
  {
   "cell_type": "code",
   "execution_count": 19,
   "id": "56fcb44f",
   "metadata": {},
   "outputs": [],
   "source": [
    "def remove_emp_list(l1):\n",
    "    new_list = []\n",
    "    for i in l1:\n",
    "        if i:\n",
    "            new_list.append(i)\n",
    "    return new_list"
   ]
  },
  {
   "cell_type": "code",
   "execution_count": 20,
   "id": "237dd679",
   "metadata": {},
   "outputs": [
    {
     "data": {
      "text/plain": [
       "[1, 2, 3, 2, 7]"
      ]
     },
     "execution_count": 20,
     "metadata": {},
     "output_type": "execute_result"
    }
   ],
   "source": [
    "remove_emp_list([1,2,3,[],2,[],7])"
   ]
  },
  {
   "cell_type": "markdown",
   "id": "d611858a",
   "metadata": {},
   "source": [
    "__10.Write a Python program to Cloning or Copying a list?__"
   ]
  },
  {
   "cell_type": "code",
   "execution_count": 28,
   "id": "edad639c",
   "metadata": {},
   "outputs": [
    {
     "data": {
      "text/plain": [
       "[1, 2, 3, 4, 5, 6]"
      ]
     },
     "execution_count": 28,
     "metadata": {},
     "output_type": "execute_result"
    }
   ],
   "source": [
    "def cloning(l1):\n",
    "    l2 = []\n",
    "    l2.extend(l1)\n",
    "    return l2\n",
    "\n",
    "cloning([1,2,3,4,5,6])"
   ]
  },
  {
   "cell_type": "markdown",
   "id": "89a2d499",
   "metadata": {},
   "source": [
    "__11.Write a Python program to Count occurrences of an element in a list?__"
   ]
  },
  {
   "cell_type": "code",
   "execution_count": 30,
   "id": "b75104fb",
   "metadata": {},
   "outputs": [
    {
     "data": {
      "text/plain": [
       "3"
      ]
     },
     "execution_count": 30,
     "metadata": {},
     "output_type": "execute_result"
    }
   ],
   "source": [
    "l1 = [1,1,1,2,4,4,4,5,3,66,5]\n",
    "l1.count(1)"
   ]
  },
  {
   "cell_type": "code",
   "execution_count": 32,
   "id": "40767202",
   "metadata": {},
   "outputs": [
    {
     "data": {
      "text/plain": [
       "3"
      ]
     },
     "execution_count": 32,
     "metadata": {},
     "output_type": "execute_result"
    }
   ],
   "source": [
    "def count(l1,x):\n",
    "    return l1.count(x)\n",
    "\n",
    "count(l1,4)"
   ]
  },
  {
   "cell_type": "code",
   "execution_count": null,
   "id": "01d5ff93",
   "metadata": {},
   "outputs": [],
   "source": []
  }
 ],
 "metadata": {
  "kernelspec": {
   "display_name": "Python 3 (ipykernel)",
   "language": "python",
   "name": "python3"
  },
  "language_info": {
   "codemirror_mode": {
    "name": "ipython",
    "version": 3
   },
   "file_extension": ".py",
   "mimetype": "text/x-python",
   "name": "python",
   "nbconvert_exporter": "python",
   "pygments_lexer": "ipython3",
   "version": "3.9.7"
  }
 },
 "nbformat": 4,
 "nbformat_minor": 5
}
