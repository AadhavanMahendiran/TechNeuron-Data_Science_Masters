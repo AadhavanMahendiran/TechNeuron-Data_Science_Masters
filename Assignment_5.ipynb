{
 "cells": [
  {
   "cell_type": "markdown",
   "id": "caf97c37",
   "metadata": {},
   "source": [
    "__1. What does an empty dictionary's code look like?__"
   ]
  },
  {
   "cell_type": "code",
   "execution_count": 7,
   "id": "fa5c583c",
   "metadata": {},
   "outputs": [
    {
     "data": {
      "text/plain": [
       "{}"
      ]
     },
     "execution_count": 7,
     "metadata": {},
     "output_type": "execute_result"
    }
   ],
   "source": [
    "d = {}\n",
    "d"
   ]
  },
  {
   "cell_type": "markdown",
   "id": "392a247c",
   "metadata": {},
   "source": [
    "__2. What is the value of a dictionary value with the key 'foo' and the value 42?__"
   ]
  },
  {
   "cell_type": "code",
   "execution_count": 3,
   "id": "9ef22b9e",
   "metadata": {},
   "outputs": [
    {
     "data": {
      "text/plain": [
       "{'foo': 42}"
      ]
     },
     "execution_count": 3,
     "metadata": {},
     "output_type": "execute_result"
    }
   ],
   "source": [
    "d1 ={\"foo\":42}\n",
    "d1"
   ]
  },
  {
   "cell_type": "markdown",
   "id": "7bd04cf4",
   "metadata": {},
   "source": [
    "__3. What is the most significant distinction between a dictionary and a list?__"
   ]
  },
  {
   "cell_type": "markdown",
   "id": "db4879c4",
   "metadata": {},
   "source": [
    "The items stored in a dictionary are unordered, while the items in a list are ordered."
   ]
  },
  {
   "cell_type": "markdown",
   "id": "65865333",
   "metadata": {},
   "source": [
    "__4. What happens if you try to access spam['foo'] if spam is {'bar': 100}?__"
   ]
  },
  {
   "cell_type": "markdown",
   "id": "0ee4a432",
   "metadata": {},
   "source": [
    "We will get      \n",
    "\n",
    "\n",
    "\"KeyError: 'foo'\""
   ]
  },
  {
   "cell_type": "code",
   "execution_count": 4,
   "id": "827fe93c",
   "metadata": {},
   "outputs": [
    {
     "data": {
      "text/plain": [
       "{'bar': 100}"
      ]
     },
     "execution_count": 4,
     "metadata": {},
     "output_type": "execute_result"
    }
   ],
   "source": [
    "spam = {'bar': 100}\n",
    "spam"
   ]
  },
  {
   "cell_type": "code",
   "execution_count": 6,
   "id": "c8e91922",
   "metadata": {},
   "outputs": [
    {
     "ename": "KeyError",
     "evalue": "'foo'",
     "output_type": "error",
     "traceback": [
      "\u001b[1;31m---------------------------------------------------------------------------\u001b[0m",
      "\u001b[1;31mKeyError\u001b[0m                                  Traceback (most recent call last)",
      "\u001b[1;32m~\\AppData\\Local\\Temp/ipykernel_36080/3999281786.py\u001b[0m in \u001b[0;36m<module>\u001b[1;34m\u001b[0m\n\u001b[1;32m----> 1\u001b[1;33m \u001b[0mspam\u001b[0m\u001b[1;33m[\u001b[0m\u001b[1;34m'foo'\u001b[0m\u001b[1;33m]\u001b[0m\u001b[1;33m\u001b[0m\u001b[1;33m\u001b[0m\u001b[0m\n\u001b[0m",
      "\u001b[1;31mKeyError\u001b[0m: 'foo'"
     ]
    }
   ],
   "source": [
    "spam['foo']"
   ]
  },
  {
   "cell_type": "markdown",
   "id": "b3170c90",
   "metadata": {},
   "source": [
    "__5. If a dictionary is stored in spam, what is the difference between the expressions 'cat' in spam and 'cat' in spam.keys()?__"
   ]
  },
  {
   "cell_type": "markdown",
   "id": "bb76e599",
   "metadata": {},
   "source": [
    "There is no difference. The \"in\" operator checks whether a value exists as a key in the dictionary."
   ]
  },
  {
   "cell_type": "code",
   "execution_count": 13,
   "id": "5e12b1cb",
   "metadata": {},
   "outputs": [
    {
     "name": "stdout",
     "output_type": "stream",
     "text": [
      "True\n",
      "True\n"
     ]
    }
   ],
   "source": [
    "spam = {\"cat\": \"example\"}\n",
    "print(\"cat\" in spam)\n",
    "print( 'cat' in spam.keys())"
   ]
  },
  {
   "cell_type": "markdown",
   "id": "bcbb6510",
   "metadata": {},
   "source": [
    "__6. If a dictionary is stored in spam, what is the difference between the expressions 'cat' in spam and 'cat' in spam.values()?__"
   ]
  },
  {
   "cell_type": "markdown",
   "id": "11bef28d",
   "metadata": {},
   "source": [
    "There is a difference . \" \"cat\" in spam\" check whether the \"cat\" key in the spam or not. But \"'cat' in spam.values()\" will check whether \"cat\" is placed as value for the keys in the spam"
   ]
  },
  {
   "cell_type": "code",
   "execution_count": 14,
   "id": "a67fe139",
   "metadata": {},
   "outputs": [
    {
     "name": "stdout",
     "output_type": "stream",
     "text": [
      "True\n",
      "False\n"
     ]
    }
   ],
   "source": [
    "spam = {\"cat\": \"example\"}\n",
    "print(\"cat\" in spam)\n",
    "print(\"cat\" in spam.values())"
   ]
  },
  {
   "cell_type": "markdown",
   "id": "4a83d686",
   "metadata": {},
   "source": [
    "__7. What is a shortcut for the following code?\n",
    "if 'color' not in spam:\n",
    "spam['color'] = 'black'__\n"
   ]
  },
  {
   "cell_type": "code",
   "execution_count": 1,
   "id": "56a14725",
   "metadata": {},
   "outputs": [],
   "source": [
    "spam = {'name': 'Pooka', 'age': 5}"
   ]
  },
  {
   "cell_type": "code",
   "execution_count": 2,
   "id": "ef160360",
   "metadata": {},
   "outputs": [
    {
     "data": {
      "text/plain": [
       "{'name': 'Pooka', 'age': 5, 'color': 'Black'}"
      ]
     },
     "execution_count": 2,
     "metadata": {},
     "output_type": "execute_result"
    }
   ],
   "source": [
    "# shortcut\n",
    "spam.setdefault('color','Black')\n",
    "spam"
   ]
  },
  {
   "cell_type": "markdown",
   "id": "d053ca9a",
   "metadata": {},
   "source": [
    "__8. How do you \"pretty print\" dictionary values using which module and function?__"
   ]
  },
  {
   "cell_type": "markdown",
   "id": "007dbe6f",
   "metadata": {},
   "source": [
    "pprint.pprint()"
   ]
  }
 ],
 "metadata": {
  "kernelspec": {
   "display_name": "Python 3 (ipykernel)",
   "language": "python",
   "name": "python3"
  },
  "language_info": {
   "codemirror_mode": {
    "name": "ipython",
    "version": 3
   },
   "file_extension": ".py",
   "mimetype": "text/x-python",
   "name": "python",
   "nbconvert_exporter": "python",
   "pygments_lexer": "ipython3",
   "version": "3.9.7"
  }
 },
 "nbformat": 4,
 "nbformat_minor": 5
}
