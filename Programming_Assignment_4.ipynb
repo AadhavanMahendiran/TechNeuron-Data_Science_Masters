{
 "cells": [
  {
   "cell_type": "code",
   "execution_count": 1,
   "id": "f35b7a54",
   "metadata": {},
   "outputs": [],
   "source": [
    "import os\n",
    "import logging"
   ]
  },
  {
   "cell_type": "code",
   "execution_count": 2,
   "id": "f3ddf80e",
   "metadata": {},
   "outputs": [],
   "source": [
    "logging.basicConfig(filename = \"logger.log\", level = logging.INFO,\n",
    "                   format = \"%(asctime)s%(messages)s\" )"
   ]
  },
  {
   "cell_type": "markdown",
   "id": "6f680352",
   "metadata": {},
   "source": [
    "__1.\tWrite a Python Program to Find the Factorial of a Number?__"
   ]
  },
  {
   "cell_type": "code",
   "execution_count": 13,
   "id": "355c1cd4",
   "metadata": {},
   "outputs": [],
   "source": [
    "class find:\n",
    "    \n",
    "    def __init__ (self):\n",
    "        self. num = int(input(\"Enter the positive Number\"))\n",
    "        \n",
    "    def find_factorial(self, factorial = 1):\n",
    "        if self.num < 0:\n",
    "            print(f\"The Factorial for negative number {self.num} is cannot be calculated\")\n",
    "        \n",
    "        elif self.num == 0:\n",
    "            print(f\"The Factorial Number for {self.num} is 1\")\n",
    "        \n",
    "        else:\n",
    "            for i in range (factorial, self.num + 1):\n",
    "                factorial = factorial * i\n",
    "            \n",
    "            print(f\"The factorial of the Number {self.num} is {factorial}\")\n",
    "            \n",
    "    def __str__ (self):\n",
    "        return (\"The class is created to find the Factorial of the number\")\n",
    "            \n",
    "        "
   ]
  },
  {
   "cell_type": "code",
   "execution_count": 15,
   "id": "2b31bcae",
   "metadata": {},
   "outputs": [
    {
     "name": "stdout",
     "output_type": "stream",
     "text": [
      "Enter the positive Number6\n",
      "The factorial of the Number 6 is 720\n"
     ]
    }
   ],
   "source": [
    "z = find()\n",
    "z.find_factorial()"
   ]
  },
  {
   "cell_type": "raw",
   "id": "c9643ac3",
   "metadata": {},
   "source": [
    "def factorial():\n",
    "    num = int(input(\"Enter the positive \"))\n",
    "    factorial = 1\n",
    "    \n",
    "    if num <0:\n",
    "        print(f\"The Factorial for negative number {num} is cannot be calculated\")\n",
    "    elif num == 0:\n",
    "        print(f\"The Factorial Number for {num} is 1\")\n",
    "    else:\n",
    "        for i in range (factorial, num + 1):\n",
    "            factorial = factorial * i\n",
    "        print(f\"The factorial of the Number {num} is {factorial}\")\n",
    "            "
   ]
  },
  {
   "cell_type": "raw",
   "id": "9a74d05c",
   "metadata": {},
   "source": [
    "factorial()"
   ]
  },
  {
   "cell_type": "markdown",
   "id": "36c3b5f2",
   "metadata": {},
   "source": [
    "__2.\tWrite a Python Program to Display the multiplication Table?__"
   ]
  },
  {
   "cell_type": "code",
   "execution_count": 22,
   "id": "75b4484f",
   "metadata": {},
   "outputs": [],
   "source": [
    "class Multiplication :\n",
    "    \n",
    "    def __init__ (self):\n",
    "        self.num = int(input(\"Enter the Number here :\"))\n",
    "        \n",
    "    def table(self):\n",
    "        for i in range(1,10):\n",
    "            print (self.num,\"x\",i,\"=\",self.num*i)\n",
    "            \n",
    "    def __str__ (self):\n",
    "        return (\"This class is created to find the Multiplication table\")\n",
    "    \n",
    "    "
   ]
  },
  {
   "cell_type": "code",
   "execution_count": 23,
   "id": "b0f43054",
   "metadata": {},
   "outputs": [
    {
     "name": "stdout",
     "output_type": "stream",
     "text": [
      "Enter the Number here :10\n",
      "10 x 1 = 10\n",
      "10 x 2 = 20\n",
      "10 x 3 = 30\n",
      "10 x 4 = 40\n",
      "10 x 5 = 50\n",
      "10 x 6 = 60\n",
      "10 x 7 = 70\n",
      "10 x 8 = 80\n",
      "10 x 9 = 90\n"
     ]
    }
   ],
   "source": [
    "z = Multiplication()\n",
    "z.table()"
   ]
  },
  {
   "cell_type": "raw",
   "id": "4a34197f",
   "metadata": {},
   "source": [
    "def Multiplication_table():\n",
    "    num = int(input(\"Enter the Number here : \"))\n",
    "    \n",
    "    for i in range(1,10):\n",
    "        print(num,\"x\",i,\"=\",num*i)\n",
    "        "
   ]
  },
  {
   "cell_type": "raw",
   "id": "8bbddda7",
   "metadata": {},
   "source": [
    "Multiplication_table()"
   ]
  },
  {
   "cell_type": "markdown",
   "id": "77969f61",
   "metadata": {},
   "source": [
    "__3.\tWrite a Python Program to Print the Fibonacci sequence?__"
   ]
  },
  {
   "cell_type": "code",
   "execution_count": 32,
   "id": "33db46d6",
   "metadata": {},
   "outputs": [],
   "source": [
    "class fibonaci:\n",
    "    \n",
    "    def __init__(self):\n",
    "        \n",
    "        self.num = int(input(\"Enter the number here :\"))\n",
    "        self.a = 0\n",
    "        self.b = 1\n",
    "        \n",
    "    def find_fibonacci(self):\n",
    "        \n",
    "        if self.num <= 0:\n",
    "            print(\"Enter the Positive Number to get the Fibonacci series\")\n",
    "            \n",
    "        elif self.num ==1:\n",
    "            print(\"The Fibonacci for 1 is 1\")\n",
    "            \n",
    "        else:\n",
    "            print(f\"The Fibonacci for 0 is {self.a}\")\n",
    "            print(f\"The Fibonacci for 1 is {self.b}\")\n",
    "            for i in range(1,self.num):\n",
    "                self.c = self.a + self.b\n",
    "                self.a = self.b\n",
    "                self.b = self.c\n",
    "                print(f\"The Fibonacci for {i} is {self.c}\")\n",
    "                \n",
    "    def __str__ (self):\n",
    "        return (\"This is class created to find the fibonacci series\")\n",
    "            "
   ]
  },
  {
   "cell_type": "code",
   "execution_count": 33,
   "id": "1b161915",
   "metadata": {},
   "outputs": [
    {
     "name": "stdout",
     "output_type": "stream",
     "text": [
      "Enter the number here :21\n",
      "The Fibonacci for 0 is 0\n",
      "The Fibonacci for 1 is 1\n",
      "The Fibonacci for 1 is 1\n",
      "The Fibonacci for 2 is 2\n",
      "The Fibonacci for 3 is 3\n",
      "The Fibonacci for 4 is 5\n",
      "The Fibonacci for 5 is 8\n",
      "The Fibonacci for 6 is 13\n",
      "The Fibonacci for 7 is 21\n",
      "The Fibonacci for 8 is 34\n",
      "The Fibonacci for 9 is 55\n",
      "The Fibonacci for 10 is 89\n",
      "The Fibonacci for 11 is 144\n",
      "The Fibonacci for 12 is 233\n",
      "The Fibonacci for 13 is 377\n",
      "The Fibonacci for 14 is 610\n",
      "The Fibonacci for 15 is 987\n",
      "The Fibonacci for 16 is 1597\n",
      "The Fibonacci for 17 is 2584\n",
      "The Fibonacci for 18 is 4181\n",
      "The Fibonacci for 19 is 6765\n",
      "The Fibonacci for 20 is 10946\n"
     ]
    }
   ],
   "source": [
    "z = fibonaci()\n",
    "z.find_fibonacci()"
   ]
  },
  {
   "cell_type": "raw",
   "id": "7e5336d2",
   "metadata": {},
   "source": [
    "def find_fibonacci():\n",
    "    num = int(input(\"Enter the number here :\"))\n",
    "    a = 0\n",
    "    b = 1\n",
    "    \n",
    "    if num <= 0:\n",
    "        print(\"Enter the Positive Number to get the Fibonacci series\")\n",
    "        \n",
    "    elif num == 1:\n",
    "        print (\"The Fibonacci for 1 is 1\")\n",
    "        \n",
    "    else:\n",
    "        print(f\"The Fibonacci for 0 is {a}\")\n",
    "        print(f\"The Fibonacci for 1 is {b}\")\n",
    "        for i in range(1,num):\n",
    "            c = a + b\n",
    "            a = b\n",
    "            b = c\n",
    "            print(f\"The Fibonacci for {i} is {c}\")"
   ]
  },
  {
   "cell_type": "raw",
   "id": "7e144c1e",
   "metadata": {},
   "source": [
    "find_fibonacci()"
   ]
  },
  {
   "cell_type": "markdown",
   "id": "3a5ce848",
   "metadata": {},
   "source": [
    "__4.\tWrite a Python Program to Check Armstrong Number?__"
   ]
  },
  {
   "cell_type": "code",
   "execution_count": 42,
   "id": "d99aebcf",
   "metadata": {},
   "outputs": [],
   "source": [
    "class amstrong :\n",
    "    \n",
    "    def __init__ (self):\n",
    "        self.num = int(input(\"Enter the number :\"))\n",
    "        self.m = len(str(self.num))\n",
    "        self.temp = self.num\n",
    "        self.add_sum = 0\n",
    "        \n",
    "        \n",
    "    def check_amstrong(self):\n",
    "        while self.temp != 0:\n",
    "            k = self.temp % 10\n",
    "            self.add_sum += k ** self.m\n",
    "            self.temp = self.temp // 10\n",
    "            \n",
    "        if self.add_sum == self.num:\n",
    "            print(f\"This {self.num} is a Amstrong Number\")\n",
    "        else:\n",
    "            print(\"This is not a Amstrong Number\")\n",
    "            \n",
    "    def __str__(self):\n",
    "        return (\"This is class is created to find whether the given number is amstrong number or not\")"
   ]
  },
  {
   "cell_type": "code",
   "execution_count": 43,
   "id": "73cd6cfc",
   "metadata": {},
   "outputs": [
    {
     "name": "stdout",
     "output_type": "stream",
     "text": [
      "Enter the number :370\n",
      "This 370 is a Amstrong Number\n"
     ]
    }
   ],
   "source": [
    "z = amstrong()\n",
    "z.check_amstrong()"
   ]
  },
  {
   "cell_type": "raw",
   "id": "6125f33b",
   "metadata": {},
   "source": [
    "def check_amstrong():\n",
    "    num = int(input(\"Enter the number :\"))\n",
    "    m = len(str(num))\n",
    "    temp = num\n",
    "    add_sum = 0\n",
    "    \n",
    "    while temp != 0:\n",
    "        k = temp%10\n",
    "        add_sum += k ** m\n",
    "        temp = temp//10\n",
    "        \n",
    "    if add_sum == num:\n",
    "        print(f\"This {num} is a Amstrong Number\")\n",
    "    else:\n",
    "        print(\"This is not a Amstrong Number\")\n",
    "    "
   ]
  },
  {
   "cell_type": "raw",
   "id": "ab5b6bed",
   "metadata": {},
   "source": [
    "check_amstrong()"
   ]
  },
  {
   "cell_type": "markdown",
   "id": "76828f06",
   "metadata": {},
   "source": [
    "__5.\tWrite a Python Program to Find Armstrong Number in an Interval?__"
   ]
  },
  {
   "cell_type": "code",
   "execution_count": null,
   "id": "874ae45e",
   "metadata": {},
   "outputs": [],
   "source": [
    "def check_amstrong():\n",
    "    #num = int(input(\"Enter the number :\"))\n",
    "    m = len(str(num))\n",
    "    temp = num\n",
    "    #add_sum = 0\n",
    "    lower = int(input(\"enter the lower range :\"))\n",
    "    higher = int(input(\"enter the higher range :\"))\n",
    "    \n",
    "\n",
    "    for num in range (lower, higher+1):\n",
    "         m = len(str(num))\n",
    "            add_sum = 0\n",
    "\n",
    "        while temp != 0:\n",
    "            k = temp%10\n",
    "            add_sum += k ** m\n",
    "            temp = temp//10\n",
    "\n",
    "        if add_sum == num:\n",
    "            print(f\"This {num} is a Amstrong Number\")\n",
    "        else:\n",
    "            print(\"This is not a Amstrong Number\")\n",
    "    \n"
   ]
  },
  {
   "cell_type": "code",
   "execution_count": null,
   "id": "1bdb0a6f",
   "metadata": {},
   "outputs": [],
   "source": [
    "check_amstrong()"
   ]
  },
  {
   "cell_type": "markdown",
   "id": "1e68eb99",
   "metadata": {},
   "source": [
    "__6.\tWrite a Python Program to Find the Sum of Natural Numbers?__"
   ]
  },
  {
   "cell_type": "code",
   "execution_count": 34,
   "id": "ad3c5e1d",
   "metadata": {},
   "outputs": [],
   "source": [
    "class Naturalnum :\n",
    "    \n",
    "    def __init__(self): \n",
    "        self.num = int(input(\"Enter the value of num :\"))\n",
    "        self.hold = self.num\n",
    "        self.sum = 0\n",
    "        \n",
    "    def sum_natural(self):\n",
    "        if self.num <0:\n",
    "            print (\"Enter the positive Number\")\n",
    "        else:\n",
    "            \n",
    "            while self.num >=0:\n",
    "                self.sum = self.sum + self.num\n",
    "                self.num = self.num - 1\n",
    "            print(f\"sum of first {self.hold} is {self.sum}\")\n",
    "            \n",
    "    def __str__ (self):\n",
    "        return (\"This is class created to find the sum of Natural number\")"
   ]
  },
  {
   "cell_type": "code",
   "execution_count": 35,
   "id": "2833ef43",
   "metadata": {},
   "outputs": [
    {
     "name": "stdout",
     "output_type": "stream",
     "text": [
      "Enter the value of num :6\n",
      "sum of first 6 is 21\n"
     ]
    }
   ],
   "source": [
    "z = Naturalnum()\n",
    "z.sum_natural()"
   ]
  },
  {
   "cell_type": "raw",
   "id": "3edb66ad",
   "metadata": {},
   "source": [
    "def sum_naturalnum():\n",
    "    num = int(input(\"Enter the value of num :\"))\n",
    "    hold = num\n",
    "    sum = 0\n",
    "    \n",
    "    if num<0:\n",
    "        print(\"Enter the positive Number\")\n",
    "    else:\n",
    "        \n",
    "        while num >=0:\n",
    "            sum = sum + num\n",
    "            num = num -1\n",
    "        print(f\"sum of first {hold} is {sum}\")"
   ]
  },
  {
   "cell_type": "raw",
   "id": "121f8174",
   "metadata": {},
   "source": [
    "sum_naturalnum()"
   ]
  },
  {
   "cell_type": "code",
   "execution_count": null,
   "id": "ab9b0813",
   "metadata": {},
   "outputs": [],
   "source": []
  },
  {
   "cell_type": "code",
   "execution_count": null,
   "id": "9a775a11",
   "metadata": {},
   "outputs": [],
   "source": []
  }
 ],
 "metadata": {
  "kernelspec": {
   "display_name": "Python 3 (ipykernel)",
   "language": "python",
   "name": "python3"
  },
  "language_info": {
   "codemirror_mode": {
    "name": "ipython",
    "version": 3
   },
   "file_extension": ".py",
   "mimetype": "text/x-python",
   "name": "python",
   "nbconvert_exporter": "python",
   "pygments_lexer": "ipython3",
   "version": "3.9.7"
  }
 },
 "nbformat": 4,
 "nbformat_minor": 5
}
