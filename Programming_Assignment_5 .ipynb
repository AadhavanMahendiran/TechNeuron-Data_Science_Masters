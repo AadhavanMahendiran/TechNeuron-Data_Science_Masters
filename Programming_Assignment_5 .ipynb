{
 "cells": [
  {
   "cell_type": "code",
   "execution_count": 1,
   "id": "943a7eeb",
   "metadata": {},
   "outputs": [],
   "source": [
    "import os\n",
    "import logging\n"
   ]
  },
  {
   "cell_type": "code",
   "execution_count": 2,
   "id": "a31a1d67",
   "metadata": {},
   "outputs": [],
   "source": [
    "logging_str = \"[%(asctime)s: %(levelname)s: %(module)s]: %(message)s\"\n",
    "log_dir = \"logs\"\n",
    "os.makedirs(log_dir, exist_ok=True)\n",
    "logging.basicConfig(filename=os.path.join(log_dir, 'running_logs.log'), level=logging.INFO, format=logging_str,\n",
    "                    filemode=\"a\")"
   ]
  },
  {
   "cell_type": "code",
   "execution_count": 3,
   "id": "0a924556",
   "metadata": {},
   "outputs": [],
   "source": [
    "logging.info(\"check - Info message is being loaded\")\n",
    "logging.error(\"check - Error message is being loaded\")\n",
    "logging.warning(\"check - Warning!\")"
   ]
  },
  {
   "cell_type": "markdown",
   "id": "3de93680",
   "metadata": {},
   "source": [
    "__1.\tWrite a Python Program to Find LCM?__"
   ]
  },
  {
   "cell_type": "code",
   "execution_count": 40,
   "id": "13288fdb",
   "metadata": {},
   "outputs": [
    {
     "name": "stdout",
     "output_type": "stream",
     "text": [
      "Enter the number21\n",
      "Enter the number34\n",
      "lcm of 21 and 34 is 714\n"
     ]
    }
   ],
   "source": [
    "n1 = int(input(\"Enter the number\"))\n",
    "list1 = []\n",
    "for i in range(1,1000):\n",
    "    prod = i*n1\n",
    "    list1.append(prod)\n",
    "list1\n",
    "\n",
    "n2 = int(input(\"Enter the number\"))\n",
    "list2 = []\n",
    "for j in range(1,1000):\n",
    "    prod = j*n2\n",
    "    list2.append(prod)\n",
    "list2\n",
    "\n",
    "set1 = set(list1)\n",
    "set2 = set(list2)\n",
    "\n",
    "common_factor = set1.intersection(set2)\n",
    "\n",
    "LCM = min(common_factor)\n",
    "\n",
    "print(f\"lcm of {n1} and {n2} is {LCM}\")"
   ]
  },
  {
   "cell_type": "code",
   "execution_count": 43,
   "id": "914382db",
   "metadata": {},
   "outputs": [],
   "source": [
    "def find_lcm():\n",
    "    n1 = int(input(\"Enter the number\"))\n",
    "    n2 = int(input(\"Enter the number\"))\n",
    "    \n",
    "    list1 = []\n",
    "    for i in range(1,1000):\n",
    "        prod = i*n1\n",
    "        list1.append(prod)\n",
    "    list1\n",
    "    \n",
    "    list2 = []\n",
    "    for j in range(1,1000):\n",
    "        prod = j*n2\n",
    "        list2.append(prod)\n",
    "    list2\n",
    "    \n",
    "    set1 = set(list1)\n",
    "    set2 = set(list2)\n",
    "    \n",
    "    common_factor = set1.intersection(set2)\n",
    "\n",
    "    LCM = min(common_factor)\n",
    "\n",
    "    print(f\"lcm of {n1} and {n2} is {LCM}\")"
   ]
  },
  {
   "cell_type": "code",
   "execution_count": 48,
   "id": "77216d59",
   "metadata": {},
   "outputs": [],
   "source": [
    "class find:\n",
    "    \n",
    "    def __init__(self):\n",
    "        self.n1 = int(input(\"Enter the number\"))\n",
    "        self.n2 = int(input(\"Enter the number\"))\n",
    "        \n",
    "    def lcm(self):\n",
    "        \n",
    "        try:\n",
    "            \n",
    "            list1 = []\n",
    "            for i in range(1,1000):\n",
    "                prod = i*n1\n",
    "                list1.append(prod)\n",
    "            list1\n",
    "        \n",
    "            list2 = []\n",
    "            for j in range(1,1000):\n",
    "                prod = j*n2\n",
    "                list2.append(prod)\n",
    "            list2\n",
    "        \n",
    "            set1 = set(self.list1)\n",
    "            set2 = set(self.list2)\n",
    "        \n",
    "            commom_factor = self.set1.interaction(self.set2)\n",
    "        \n",
    "            LCM = min(common_factor)\n",
    "            print(f\"lcm of {n1} and {n2} is {LCM}\")\n",
    "        \n",
    "        except Exception as e:\n",
    "            print(f\"The error in this code is {e}\")\n",
    "        \n",
    "        else:\n",
    "            print(\"The code is working fine\")\n",
    "    \n",
    "    def __str__(self):\n",
    "        print(\"This class is defined to find the lcm of two numbers\")\n",
    "        "
   ]
  },
  {
   "cell_type": "code",
   "execution_count": 49,
   "id": "cb3adb58",
   "metadata": {},
   "outputs": [
    {
     "name": "stdout",
     "output_type": "stream",
     "text": [
      "Enter the number21\n",
      "Enter the number34\n",
      "The error in this code is 'find' object has no attribute 'list1'\n"
     ]
    }
   ],
   "source": [
    "z = find()\n",
    "z.lcm()"
   ]
  },
  {
   "cell_type": "code",
   "execution_count": 44,
   "id": "d9b1857c",
   "metadata": {},
   "outputs": [
    {
     "name": "stdout",
     "output_type": "stream",
     "text": [
      "Enter the number21\n",
      "Enter the number34\n",
      "lcm of 21 and 34 is 714\n"
     ]
    }
   ],
   "source": [
    "lcm()"
   ]
  },
  {
   "cell_type": "code",
   "execution_count": 38,
   "id": "050423e4",
   "metadata": {},
   "outputs": [
    {
     "name": "stdout",
     "output_type": "stream",
     "text": [
      "Enter the integer20\n",
      "Enter the integer42\n",
      "LCM of 20 and 20 is 20\n"
     ]
    }
   ],
   "source": [
    "n1 = int(input(\"Enter the integer\"))\n",
    "n2 = int(input(\"Enter the integer\"))\n",
    "lcm(n1,n1)"
   ]
  },
  {
   "cell_type": "markdown",
   "id": "76b45ed3",
   "metadata": {},
   "source": [
    "__2.\tWrite a Python Program to Find HCF?__"
   ]
  },
  {
   "cell_type": "code",
   "execution_count": 1,
   "id": "4b3c852b",
   "metadata": {},
   "outputs": [
    {
     "name": "stdout",
     "output_type": "stream",
     "text": [
      "Enter the first number: 25\n",
      "Enter the second number: 50\n",
      " Factors of 25 and 50 are: [1, 5, 25]\n",
      " HCF of 25 and 50 is : 25\n"
     ]
    }
   ],
   "source": [
    "num1 = int(input('Enter the first number: '))\n",
    "num2 = int(input('Enter the second number: '))\n",
    "\n",
    "minimum = min(num1, num2)\n",
    "\n",
    "list3 = []\n",
    "\n",
    "for i in range(1, minimum+1):\n",
    "    if (num1%i) == 0 and (num2%i) == 0:\n",
    "        list3.append(i)\n",
    "        hcf = max(list3)\n",
    "print(f' Factors of {num1} and {num2} are: {list3}')\n",
    "print(f' HCF of {num1} and {num2} is : {hcf}')"
   ]
  },
  {
   "cell_type": "markdown",
   "id": "8dda7ee0",
   "metadata": {},
   "source": [
    "__3.\tWrite a Python Program to Convert Decimal to Binary, Octal and Hexadecimal?__"
   ]
  },
  {
   "cell_type": "code",
   "execution_count": 7,
   "id": "c6dbfad0",
   "metadata": {},
   "outputs": [],
   "source": [
    "class convertDecimal:\n",
    "    \n",
    "    def __init__(self):\n",
    "        self.num = int(input(\"Enter the number : \"))\n",
    "    \n",
    "    def to_binary(self):\n",
    "        try :\n",
    "            return bin(self.num)\n",
    "        \n",
    "        except Exception as e:\n",
    "            print(f\"The error in the code is {e}\")\n",
    "        \n",
    "        else:\n",
    "            print(\"The code is exceuted\")\n",
    "            \n",
    "            # octal and hexa decimal\n",
    "    \n",
    "    def __str__(self):\n",
    "                  print(\"This class is used to convert decimal value to binary\")\n",
    "                  \n",
    "                  "
   ]
  },
  {
   "cell_type": "code",
   "execution_count": 8,
   "id": "5dbae798",
   "metadata": {},
   "outputs": [
    {
     "name": "stdout",
     "output_type": "stream",
     "text": [
      "Enter the number : 2\n"
     ]
    },
    {
     "data": {
      "text/plain": [
       "'0b10'"
      ]
     },
     "execution_count": 8,
     "metadata": {},
     "output_type": "execute_result"
    }
   ],
   "source": [
    "z = convertDecimal()\n",
    "z.to_binary()"
   ]
  },
  {
   "cell_type": "markdown",
   "id": "56d03f4d",
   "metadata": {},
   "source": [
    "__4.\tWrite a Python Program To Find ASCII value of a character?__"
   ]
  },
  {
   "cell_type": "code",
   "execution_count": 2,
   "id": "2d0c6dac",
   "metadata": {},
   "outputs": [
    {
     "name": "stdout",
     "output_type": "stream",
     "text": [
      "Enter the Character for ASCII value: e\n",
      " ASCII value of \"e\" is 101\n"
     ]
    }
   ],
   "source": [
    "c = input('Enter the Character for ASCII value: ')\n",
    "\n",
    "print(f' ASCII value of \"{c}\" is {ord(c)}')"
   ]
  },
  {
   "cell_type": "markdown",
   "id": "86848da3",
   "metadata": {},
   "source": [
    "__5.\tWrite a Python Program to Make a Simple Calculator with 4 basic mathematical operations?__"
   ]
  },
  {
   "cell_type": "code",
   "execution_count": 13,
   "id": "484eafd3",
   "metadata": {},
   "outputs": [],
   "source": [
    "logging.info(\"creating the function to find Factorial\")\n",
    "def factorial():\n",
    "    import math as m\n",
    "    a = int(input(\"enter the integer : \"))\n",
    "    z = m.factorial(a)\n",
    "    return f\"The factorial for {a} is {z}\""
   ]
  },
  {
   "cell_type": "code",
   "execution_count": 14,
   "id": "4193be95",
   "metadata": {},
   "outputs": [
    {
     "name": "stdout",
     "output_type": "stream",
     "text": [
      "enter the integer : 21\n"
     ]
    },
    {
     "data": {
      "text/plain": [
       "'The factorial for 21 is 51090942171709440000'"
      ]
     },
     "execution_count": 14,
     "metadata": {},
     "output_type": "execute_result"
    }
   ],
   "source": [
    "logging.info(\"excecuting Factorial function\")\n",
    "factorial()"
   ]
  },
  {
   "cell_type": "code",
   "execution_count": 15,
   "id": "30356a0f",
   "metadata": {},
   "outputs": [],
   "source": [
    "logging.info(\"creating the function to find log value\")\n",
    "def log():\n",
    "    import math as m\n",
    "    a = int(input(\"Enter the integer : \"))\n",
    "    z = m.log(a)\n",
    "    return f\"The log value for {a} is {z}\""
   ]
  },
  {
   "cell_type": "code",
   "execution_count": 16,
   "id": "61fc7b0e",
   "metadata": {},
   "outputs": [
    {
     "name": "stdout",
     "output_type": "stream",
     "text": [
      "Enter the integer : 21\n"
     ]
    },
    {
     "data": {
      "text/plain": [
       "'The log value for 21 is 3.044522437723423'"
      ]
     },
     "execution_count": 16,
     "metadata": {},
     "output_type": "execute_result"
    }
   ],
   "source": [
    "logging.info(\"excecuting log function\")\n",
    "log()"
   ]
  },
  {
   "cell_type": "code",
   "execution_count": 17,
   "id": "8357e5c0",
   "metadata": {},
   "outputs": [],
   "source": [
    "logging.info(\"creating the function to find gamma\")\n",
    "def gamma():\n",
    "    import math as m\n",
    "    a = int(input(\"Enter the integer : \"))\n",
    "    z = m.gamma(a)\n",
    "    return f\"The gamma value for {a} is {z}\""
   ]
  },
  {
   "cell_type": "code",
   "execution_count": 18,
   "id": "897b3199",
   "metadata": {},
   "outputs": [
    {
     "name": "stdout",
     "output_type": "stream",
     "text": [
      "Enter the integer : 21\n"
     ]
    },
    {
     "data": {
      "text/plain": [
       "'The gamma value for 21 is 2.43290200817664e+18'"
      ]
     },
     "execution_count": 18,
     "metadata": {},
     "output_type": "execute_result"
    }
   ],
   "source": [
    "logging.info(\"excecuting gamma function\")\n",
    "gamma()"
   ]
  },
  {
   "cell_type": "code",
   "execution_count": 19,
   "id": "49c76a02",
   "metadata": {},
   "outputs": [],
   "source": [
    "logging.info(\"creating the function to find sqrt\")\n",
    "def sqrt():\n",
    "    import math as m\n",
    "    a = int(input(\"Enter the integer : \"))\n",
    "    z = m.sqrt(a)\n",
    "    return f\"The sqrt value for {a} is {z}\""
   ]
  },
  {
   "cell_type": "code",
   "execution_count": 20,
   "id": "babe9b71",
   "metadata": {},
   "outputs": [
    {
     "name": "stdout",
     "output_type": "stream",
     "text": [
      "Enter the integer : 21\n"
     ]
    },
    {
     "data": {
      "text/plain": [
       "'The sqrt value for 21 is 4.58257569495584'"
      ]
     },
     "execution_count": 20,
     "metadata": {},
     "output_type": "execute_result"
    }
   ],
   "source": [
    "logging.info(\"excecuting sqrt function\")\n",
    "sqrt()"
   ]
  },
  {
   "cell_type": "code",
   "execution_count": null,
   "id": "5fec0f75",
   "metadata": {},
   "outputs": [],
   "source": []
  }
 ],
 "metadata": {
  "kernelspec": {
   "display_name": "Python 3 (ipykernel)",
   "language": "python",
   "name": "python3"
  },
  "language_info": {
   "codemirror_mode": {
    "name": "ipython",
    "version": 3
   },
   "file_extension": ".py",
   "mimetype": "text/x-python",
   "name": "python",
   "nbconvert_exporter": "python",
   "pygments_lexer": "ipython3",
   "version": "3.9.7"
  }
 },
 "nbformat": 4,
 "nbformat_minor": 5
}
