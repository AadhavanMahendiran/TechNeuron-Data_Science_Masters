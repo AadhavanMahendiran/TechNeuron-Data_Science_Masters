{
 "cells": [
  {
   "cell_type": "markdown",
   "id": "94a0a862",
   "metadata": {},
   "source": [
    "__1. What are escape characters, and how do you use them?__"
   ]
  },
  {
   "cell_type": "markdown",
   "id": "3bbf801f",
   "metadata": {},
   "source": [
    "This 2 are escape characters---->\n",
    "\"\\n\" for new line. \"\\t\" for tab space.\n",
    "Escape characters represent characters in string values that would otherwise be difficult or impossible to type into code."
   ]
  },
  {
   "cell_type": "markdown",
   "id": "e829c3f0",
   "metadata": {},
   "source": [
    "__2. What do the escape characters n and t stand for?__"
   ]
  },
  {
   "cell_type": "markdown",
   "id": "2467de90",
   "metadata": {},
   "source": [
    "\\n for new line. \\t for tab space"
   ]
  },
  {
   "cell_type": "markdown",
   "id": "47524ded",
   "metadata": {},
   "source": [
    "__3. What is the way to include backslash characters in a string?__"
   ]
  },
  {
   "cell_type": "markdown",
   "id": "32bc0bd2",
   "metadata": {},
   "source": [
    "The \\\\ escape character will represent a backslash character."
   ]
  },
  {
   "cell_type": "markdown",
   "id": "e129091f",
   "metadata": {},
   "source": [
    "__4. The string \"Howl's Moving Castle\" is a correct value. Why isn't the single quote character in the word Howl's not escaped a problem?___"
   ]
  },
  {
   "cell_type": "markdown",
   "id": "5895ed8c",
   "metadata": {},
   "source": [
    "we have double quote in start and end of the string. so the \"Howl's\" is okay with single quote inside the double quoted string"
   ]
  },
  {
   "cell_type": "code",
   "execution_count": 48,
   "id": "a91743ee",
   "metadata": {},
   "outputs": [
    {
     "data": {
      "text/plain": [
       "\"Howl's Moving Castle\""
      ]
     },
     "execution_count": 48,
     "metadata": {},
     "output_type": "execute_result"
    }
   ],
   "source": [
    "\"Howl's Moving Castle\""
   ]
  },
  {
   "cell_type": "markdown",
   "id": "cc4230c6",
   "metadata": {},
   "source": [
    "__5. How do you write a string of newlines if you don't want to use the n character?__"
   ]
  },
  {
   "cell_type": "markdown",
   "id": "9b4c679a",
   "metadata": {},
   "source": [
    "Multiline strings allow you to use newlines in strings without the \\n escape character."
   ]
  },
  {
   "cell_type": "markdown",
   "id": "0ddf75b6",
   "metadata": {},
   "source": [
    "__6. What are the values of the given expressions?__\n",
    "__'Hello, world!'[1]__\n",
    "__'Hello, world!'[0:5]__\n",
    "__'Hello, world!'[:5]__\n",
    "__'Hello, world!'[3:]__"
   ]
  },
  {
   "cell_type": "code",
   "execution_count": 49,
   "id": "cd1469ef",
   "metadata": {},
   "outputs": [
    {
     "data": {
      "text/plain": [
       "'e'"
      ]
     },
     "execution_count": 49,
     "metadata": {},
     "output_type": "execute_result"
    }
   ],
   "source": [
    "'Hello, world!'[1]"
   ]
  },
  {
   "cell_type": "code",
   "execution_count": 50,
   "id": "2c05b13b",
   "metadata": {},
   "outputs": [
    {
     "data": {
      "text/plain": [
       "'Hello'"
      ]
     },
     "execution_count": 50,
     "metadata": {},
     "output_type": "execute_result"
    }
   ],
   "source": [
    "'Hello, world!'[0:5]"
   ]
  },
  {
   "cell_type": "code",
   "execution_count": 51,
   "id": "9ef16f98",
   "metadata": {},
   "outputs": [
    {
     "data": {
      "text/plain": [
       "'Hello'"
      ]
     },
     "execution_count": 51,
     "metadata": {},
     "output_type": "execute_result"
    }
   ],
   "source": [
    "'Hello, world!'[:5]"
   ]
  },
  {
   "cell_type": "code",
   "execution_count": 52,
   "id": "97f3b3c7",
   "metadata": {},
   "outputs": [
    {
     "data": {
      "text/plain": [
       "'lo, world!'"
      ]
     },
     "execution_count": 52,
     "metadata": {},
     "output_type": "execute_result"
    }
   ],
   "source": [
    "'Hello, world!'[3:]"
   ]
  },
  {
   "cell_type": "markdown",
   "id": "3a6303aa",
   "metadata": {},
   "source": [
    "__7. What are the values of the following expressions?__\n",
    "__'Hello'.upper()__\n",
    "__'Hello'.upper().isupper()__\n",
    "__'Hello'.upper().lower()__"
   ]
  },
  {
   "cell_type": "code",
   "execution_count": 53,
   "id": "93dec9a1",
   "metadata": {},
   "outputs": [
    {
     "data": {
      "text/plain": [
       "'HELLO'"
      ]
     },
     "execution_count": 53,
     "metadata": {},
     "output_type": "execute_result"
    }
   ],
   "source": [
    "'Hello'.upper()"
   ]
  },
  {
   "cell_type": "code",
   "execution_count": 54,
   "id": "2f5c33bc",
   "metadata": {},
   "outputs": [
    {
     "data": {
      "text/plain": [
       "True"
      ]
     },
     "execution_count": 54,
     "metadata": {},
     "output_type": "execute_result"
    }
   ],
   "source": [
    "'Hello'.upper().isupper()"
   ]
  },
  {
   "cell_type": "code",
   "execution_count": 55,
   "id": "aae32f4d",
   "metadata": {},
   "outputs": [
    {
     "data": {
      "text/plain": [
       "'hello'"
      ]
     },
     "execution_count": 55,
     "metadata": {},
     "output_type": "execute_result"
    }
   ],
   "source": [
    "'Hello'.upper().lower()"
   ]
  },
  {
   "cell_type": "markdown",
   "id": "fc31add0",
   "metadata": {},
   "source": [
    "__8. What are the values of the following expressions?__\n",
    "__'Remember, remember, the fifth of July.'.split()__\n",
    "__'-'.join('There can only one.'.split())__"
   ]
  },
  {
   "cell_type": "code",
   "execution_count": 56,
   "id": "c3c4f00f",
   "metadata": {},
   "outputs": [
    {
     "data": {
      "text/plain": [
       "['Remember,', 'remember,', 'the', 'fifth', 'of', 'July.']"
      ]
     },
     "execution_count": 56,
     "metadata": {},
     "output_type": "execute_result"
    }
   ],
   "source": [
    "'Remember, remember, the fifth of July.'.split()"
   ]
  },
  {
   "cell_type": "code",
   "execution_count": 57,
   "id": "ee78a978",
   "metadata": {},
   "outputs": [
    {
     "data": {
      "text/plain": [
       "'There-can-only-one.'"
      ]
     },
     "execution_count": 57,
     "metadata": {},
     "output_type": "execute_result"
    }
   ],
   "source": [
    "'-'.join('There can only one.'.split())"
   ]
  },
  {
   "cell_type": "markdown",
   "id": "1a8cc4f2",
   "metadata": {},
   "source": [
    "__9. What are the methods for right-justifying, left-justifying, and centering a string?__"
   ]
  },
  {
   "cell_type": "markdown",
   "id": "e17bfbfe",
   "metadata": {},
   "source": [
    "The rjust(), ljust(), and center() string methods, respectively"
   ]
  },
  {
   "cell_type": "markdown",
   "id": "ea9ba5ad",
   "metadata": {},
   "source": [
    "__10. What is the best way to remove whitespace characters from the start or end?__"
   ]
  },
  {
   "cell_type": "markdown",
   "id": "bdb85068",
   "metadata": {},
   "source": [
    "The lstrip() and rstrip() methods remove whitespace from the left and right ends of a string, respectively."
   ]
  },
  {
   "cell_type": "code",
   "execution_count": null,
   "id": "b8e79b7c",
   "metadata": {},
   "outputs": [],
   "source": []
  }
 ],
 "metadata": {
  "kernelspec": {
   "display_name": "Python 3 (ipykernel)",
   "language": "python",
   "name": "python3"
  },
  "language_info": {
   "codemirror_mode": {
    "name": "ipython",
    "version": 3
   },
   "file_extension": ".py",
   "mimetype": "text/x-python",
   "name": "python",
   "nbconvert_exporter": "python",
   "pygments_lexer": "ipython3",
   "version": "3.9.7"
  }
 },
 "nbformat": 4,
 "nbformat_minor": 5
}
