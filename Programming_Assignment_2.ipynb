{
 "cells": [
  {
   "cell_type": "code",
   "execution_count": 104,
   "id": "c3533511",
   "metadata": {},
   "outputs": [],
   "source": [
    "import os\n",
    "import logging "
   ]
  },
  {
   "cell_type": "code",
   "execution_count": 105,
   "id": "227bec5b",
   "metadata": {},
   "outputs": [],
   "source": [
    "logging.basicConfig(filename =\"logger.log\", level = logging.INFO,\n",
    "                   format = \"%(asctime)s%(message)s\")"
   ]
  },
  {
   "cell_type": "code",
   "execution_count": 106,
   "id": "67447296",
   "metadata": {},
   "outputs": [],
   "source": [
    "# checking the log\n",
    "logging.info(\"check -Info message being logged\")\n",
    "logging.warning(\"check -Warning message is being logged\")\n",
    "logging.error(\"check -Error!\")"
   ]
  },
  {
   "cell_type": "markdown",
   "id": "93ca3428",
   "metadata": {},
   "source": [
    "__1.\tWrite a Python program to convert kilometers to miles?__"
   ]
  },
  {
   "cell_type": "code",
   "execution_count": 107,
   "id": "f5df90d8",
   "metadata": {},
   "outputs": [],
   "source": [
    "def kilo_to_mile():\n",
    "    a = float(input(\"Give the kilometer value :\"))\n",
    "    mile = a * 0.621\n",
    "    return mile\n",
    "    print(\"The {} kilmeter is {} miles\".format(a,mile))"
   ]
  },
  {
   "cell_type": "code",
   "execution_count": 108,
   "id": "2f2cef59",
   "metadata": {},
   "outputs": [],
   "source": [
    "class Kilometer_to_mile:\n",
    "    logging.info(\"Creating the class Kilometer_to_mile\")\n",
    "    def __init__(self,a):\n",
    "        self.a = a\n",
    "        \n",
    "    \n",
    "    def kilo_to_mile(self):\n",
    "        try:\n",
    "            mile = float(self.a) * 0.621\n",
    "            return mile\n",
    "    \n",
    "        except Exception as e:\n",
    "            print(\"The error in this code is :\", e)\n",
    "            logging.error(\"check - Error!\")\n",
    "    \n",
    "        else:\n",
    "            print(\"The code is working fine\")\n",
    "    \n",
    "    def __str__(self):\n",
    "        return(\"This class to defined to convert kilometer to mile\")\n",
    "    logging.info(\"class Kilometer_to_mile is ready now\")"
   ]
  },
  {
   "cell_type": "code",
   "execution_count": 109,
   "id": "cc4025c6",
   "metadata": {},
   "outputs": [
    {
     "name": "stdout",
     "output_type": "stream",
     "text": [
      "2.484\n",
      "This class to defined to convert kilometer to mile\n"
     ]
    }
   ],
   "source": [
    "logging.info(\"Kilometer_to_mile is getting applied\")\n",
    "z = Kilometer_to_mile(4)\n",
    "print(z.kilo_to_mile())\n",
    "print(z)"
   ]
  },
  {
   "cell_type": "code",
   "execution_count": 110,
   "id": "69931ae3",
   "metadata": {},
   "outputs": [
    {
     "data": {
      "text/plain": [
       "2.484"
      ]
     },
     "execution_count": 110,
     "metadata": {},
     "output_type": "execute_result"
    }
   ],
   "source": [
    "z.kilo_to_mile()"
   ]
  },
  {
   "cell_type": "markdown",
   "id": "6d7403c1",
   "metadata": {},
   "source": [
    "__2.\tWrite a Python program to convert Celsius to Fahrenheit?__"
   ]
  },
  {
   "cell_type": "code",
   "execution_count": 111,
   "id": "9bb5714d",
   "metadata": {},
   "outputs": [],
   "source": [
    "def cels_to_far(a):\n",
    "    far = (float(a) *1.8) + 32\n",
    "    return (f\"The celsius {a} converted to the farenheit {far}\")\n",
    "    "
   ]
  },
  {
   "cell_type": "code",
   "execution_count": 112,
   "id": "b2375078",
   "metadata": {},
   "outputs": [
    {
     "data": {
      "text/plain": [
       "'The celsius 4 converted to the farenheit 39.2'"
      ]
     },
     "execution_count": 112,
     "metadata": {},
     "output_type": "execute_result"
    }
   ],
   "source": [
    "cels_to_far(4)"
   ]
  },
  {
   "cell_type": "code",
   "execution_count": 113,
   "id": "dc3483c4",
   "metadata": {},
   "outputs": [],
   "source": [
    "class celsius_to_farenheit:\n",
    "    logging.info(\"creating the class celsius to Farenheit\")\n",
    "    \n",
    "    def __init__(self):\n",
    "        self.a = float(input(\"give the value to convert into farenheit : \"))\n",
    "        \n",
    "    def cels_to_fare(self):\n",
    "        try:\n",
    "            far = (self.a * 1.8) + 32\n",
    "            return (f\"The converted Farenheit value is : {far}\")\n",
    "        \n",
    "        except Exception as e:\n",
    "            print(\"The error in the code is :\", e)\n",
    "            logging.error(\"check Error!\")\n",
    "            \n",
    "        else:\n",
    "            print(\"The code is excecuted\")\n",
    "            \n",
    "    def __str__(self):\n",
    "        \n",
    "        return (\"This class will convert the celcius value into Farenheit\")"
   ]
  },
  {
   "cell_type": "code",
   "execution_count": 114,
   "id": "0221ad4c",
   "metadata": {},
   "outputs": [
    {
     "name": "stdout",
     "output_type": "stream",
     "text": [
      "give the value to convert into farenheit : 23\n",
      "The converted Farenheit value is : 73.4\n",
      "This class will convert the celcius value into Farenheit\n"
     ]
    }
   ],
   "source": [
    "logging.info(\"Excecuting the celcius to farenheit\")\n",
    "c = celsius_to_farenheit()\n",
    "print(c.cels_to_fare())\n",
    "print(c)"
   ]
  },
  {
   "cell_type": "markdown",
   "id": "f79ccc63",
   "metadata": {},
   "source": [
    "__3.\tWrite a Python program to display calendar?__"
   ]
  },
  {
   "cell_type": "code",
   "execution_count": 117,
   "id": "dd8f9bec",
   "metadata": {},
   "outputs": [
    {
     "name": "stdout",
     "output_type": "stream",
     "text": [
      "give the year number :1290\n",
      "give the month number : 3\n",
      "     March 1290\n",
      "Mo Tu We Th Fr Sa Su\n",
      "       1  2  3  4  5\n",
      " 6  7  8  9 10 11 12\n",
      "13 14 15 16 17 18 19\n",
      "20 21 22 23 24 25 26\n",
      "27 28 29 30 31\n",
      "\n"
     ]
    }
   ],
   "source": [
    "import calendar\n",
    "\n",
    "yy = int(input(\"give the year number :\"))\n",
    "mm = int(input(\"give the month number : \"))\n",
    "\n",
    "\n",
    "print(calendar.month(yy, mm))"
   ]
  },
  {
   "cell_type": "code",
   "execution_count": 118,
   "id": "87344fc9",
   "metadata": {},
   "outputs": [],
   "source": [
    "\n",
    "class calendar_month:\n",
    "    logging.info(\"Creating the class calendar\")\n",
    "    import calendar\n",
    "    def __init__ (self):\n",
    "        self.year = int(input(\" The year number is :\"))\n",
    "        self.month = int(input(\" The month number below <=12 is :\"))\n",
    "        \n",
    "    def month_of_the_year(self):\n",
    "        \n",
    "        try:\n",
    "            month_calendar = calendar.month(self.year,self.month)\n",
    "            print(month_calendar)\n",
    "            \n",
    "        except Exception as e:\n",
    "            print(f\"The error is {e}\")\n",
    "            logging.error(\"check Error!\")\n",
    "        \n",
    "        else:\n",
    "            print(\"The code got excecuted succesfully\")\n",
    "            \n",
    "    def __str__(self):\n",
    "        return(\"This class to display the calender\")\n",
    "            "
   ]
  },
  {
   "cell_type": "code",
   "execution_count": 119,
   "id": "fb5e612f",
   "metadata": {},
   "outputs": [
    {
     "name": "stdout",
     "output_type": "stream",
     "text": [
      " The year number is :3423\n",
      " The month number below <=12 is :3\n",
      "     March 3423\n",
      "Mo Tu We Th Fr Sa Su\n",
      "                1  2\n",
      " 3  4  5  6  7  8  9\n",
      "10 11 12 13 14 15 16\n",
      "17 18 19 20 21 22 23\n",
      "24 25 26 27 28 29 30\n",
      "31\n",
      "\n",
      "The code got excecuted succesfully\n",
      "None\n",
      "This class to display the calender\n"
     ]
    }
   ],
   "source": [
    "logging.info(\"testing the class calendar_month\")\n",
    "c = calendar_month()\n",
    "print(c.month_of_the_year())\n",
    "print(c)"
   ]
  },
  {
   "cell_type": "markdown",
   "id": "75118124",
   "metadata": {},
   "source": [
    "__4.\tWrite a Python program to solve quadratic equation?__"
   ]
  },
  {
   "cell_type": "code",
   "execution_count": 120,
   "id": "ab496dc1",
   "metadata": {},
   "outputs": [
    {
     "name": "stdout",
     "output_type": "stream",
     "text": [
      "-3.0\n",
      "-2.0\n"
     ]
    }
   ],
   "source": [
    "import math as m\n",
    "a=1\n",
    "b=5\n",
    "c=6\n",
    "\n",
    "q = (b**2) - (4*a*c)\n",
    "\n",
    "sol1= (-b-m.sqrt(q))/(2*a)\n",
    "sol2= (-b+m.sqrt(q))/(2*a)\n",
    "\n",
    "print(sol1)\n",
    "print(sol2)"
   ]
  },
  {
   "cell_type": "code",
   "execution_count": 121,
   "id": "fed888ea",
   "metadata": {},
   "outputs": [],
   "source": [
    "import cmath as cm\n",
    "class solve_quadratic_equation:\n",
    "    logging.info(\"The class created to solve quadratic equation\")\n",
    "    \n",
    "    def __init__(self):\n",
    "        self.a = int(input(\"Give the x^2 value a : \"))\n",
    "        self.b = int(input(\"Give the x value b : \"))\n",
    "        self.c = int(input(\"Give the x value c : \"))\n",
    "        \n",
    "    \n",
    "    def quadratic_equation(self):\n",
    "        try:\n",
    "            q = (self.b**2) - (4*self.a*self.c)\n",
    "            \n",
    "            sol1= (-b-cm.sqrt(q))/(2*a)\n",
    "            sol2= (-b+cm.sqrt(q))/(2*a)\n",
    "            \n",
    "            return (f\"The solutions for quadratic equation is {sol1} and {sol2}\")\n",
    "        \n",
    "        except Exception as e:\n",
    "            print(\"There is error in this code : \",e)\n",
    "            logging.error(\"Check-error!\")\n",
    "            \n",
    "        else:\n",
    "            print(\"The code is exceuted\")\n",
    "            \n",
    "    def __str__ (self):\n",
    "        return (\"This is class to sove the quadratic equations\")\n",
    "            \n",
    "        "
   ]
  },
  {
   "cell_type": "code",
   "execution_count": 122,
   "id": "49fe65b8",
   "metadata": {},
   "outputs": [
    {
     "name": "stdout",
     "output_type": "stream",
     "text": [
      "Give the x^2 value a : 12\n",
      "Give the x value b : 43\n",
      "Give the x value c : 32\n",
      "The solutions for quadratic equation is (-11.345903006477066+0j) and (6.345903006477066+0j)\n",
      "This is class to sove the quadratic equations\n"
     ]
    }
   ],
   "source": [
    "logging.info(\"Applying class solve quadratic equation\")\n",
    "\n",
    "z = solve_quadratic_equation()\n",
    "print(z.quadratic_equation())\n",
    "print(z)"
   ]
  },
  {
   "cell_type": "markdown",
   "id": "58bc4089",
   "metadata": {},
   "source": [
    "__5.\tWrite a Python program to swap two variables without temp variable?__"
   ]
  },
  {
   "cell_type": "code",
   "execution_count": 123,
   "id": "40e86a13",
   "metadata": {},
   "outputs": [
    {
     "name": "stdout",
     "output_type": "stream",
     "text": [
      "12\n",
      "34\n",
      "The x value after the swap 34\n",
      "The y value after the swap 12\n"
     ]
    }
   ],
   "source": [
    "x = int(input())\n",
    "y = int(input())\n",
    "\n",
    "x,y = y,x\n",
    "\n",
    "print(\"The x value after the swap\",x)\n",
    "print(\"The y value after the swap\",y)"
   ]
  },
  {
   "cell_type": "code",
   "execution_count": 124,
   "id": "2763a602",
   "metadata": {},
   "outputs": [],
   "source": [
    "class swap_the_variable:\n",
    "    logging.info(\"Creating the class swap_the_variable\")\n",
    "    \n",
    "    def __init__ (self):\n",
    "        self.x = int(input(\"Give the X variable value : \"))\n",
    "        self.y = int(input(\"Giv the Y variable value : \"))\n",
    "        \n",
    "    def swap(self):\n",
    "        \n",
    "        try:\n",
    "            self.x,self.y = self.y,self.x\n",
    "            print(f\"The variable of x is {x} and y is {y} ater swap\")\n",
    "            \n",
    "        except Exception as e:\n",
    "            print(\"The error in the code is : \", e)\n",
    "        \n",
    "        else:\n",
    "            print(\"The code is excecuted\")\n",
    "            \n",
    "    def __str__ (self):\n",
    "        return (\"The class to swap the vaiable without using the tempreoary var is created here\")\n",
    "            \n",
    "    "
   ]
  },
  {
   "cell_type": "code",
   "execution_count": 125,
   "id": "fb0098f6",
   "metadata": {},
   "outputs": [
    {
     "name": "stdout",
     "output_type": "stream",
     "text": [
      "Give the X variable value : 12\n",
      "Giv the Y variable value : 34\n",
      "The variable of x is 34 and y is 12 ater swap\n",
      "The code is excecuted\n",
      "None\n",
      "The class to swap the vaiable without using the tempreoary var is created here\n"
     ]
    }
   ],
   "source": [
    "logging.info(\"Applying the swap the variable\")\n",
    "k = swap_the_variable()\n",
    "print(k.swap())\n",
    "print(k)"
   ]
  },
  {
   "cell_type": "code",
   "execution_count": null,
   "id": "58f943dd",
   "metadata": {},
   "outputs": [],
   "source": []
  }
 ],
 "metadata": {
  "kernelspec": {
   "display_name": "Python 3 (ipykernel)",
   "language": "python",
   "name": "python3"
  },
  "language_info": {
   "codemirror_mode": {
    "name": "ipython",
    "version": 3
   },
   "file_extension": ".py",
   "mimetype": "text/x-python",
   "name": "python",
   "nbconvert_exporter": "python",
   "pygments_lexer": "ipython3",
   "version": "3.9.7"
  }
 },
 "nbformat": 4,
 "nbformat_minor": 5
}
