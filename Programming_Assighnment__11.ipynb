{
 "cells": [
  {
   "cell_type": "markdown",
   "id": "62a4975b",
   "metadata": {},
   "source": [
    "__1.Write a Python program to find words which are greater than given length k?__"
   ]
  },
  {
   "cell_type": "code",
   "execution_count": 2,
   "id": "facba164",
   "metadata": {},
   "outputs": [
    {
     "name": "stdout",
     "output_type": "stream",
     "text": [
      "The code is excecuted\n"
     ]
    },
    {
     "data": {
      "text/plain": [
       "['this', 'Aadhavan', 'Mahendiran,', 'Hope', 'doing', 'good']"
      ]
     },
     "execution_count": 2,
     "metadata": {},
     "output_type": "execute_result"
    }
   ],
   "source": [
    "try :\n",
    "    def str_k(k, str):\n",
    "        \n",
    "        string = []\n",
    "        \n",
    "        text = str.split(\" \")\n",
    "        \n",
    "        for i in text:\n",
    "            if len(i) > k :\n",
    "                \n",
    "                string.append(i)\n",
    "        \n",
    "        return string\n",
    "\n",
    "except Exception as e:\n",
    "    print(f\"the error in this code is {e}\")\n",
    "\n",
    "else :\n",
    "    print(\"The code is excecuted\")\n",
    "    \n",
    "string = \"Hey this is Aadhavan Mahendiran, Hope you doing good\"\n",
    "k = 3\n",
    "str_k(k,string)"
   ]
  },
  {
   "cell_type": "markdown",
   "id": "2d914cfb",
   "metadata": {},
   "source": [
    "__2.Write a Python program for removing i-th character from a string?__"
   ]
  },
  {
   "cell_type": "code",
   "execution_count": 11,
   "id": "810328c5",
   "metadata": {},
   "outputs": [
    {
     "name": "stdout",
     "output_type": "stream",
     "text": [
      "The code is excecuted\n"
     ]
    },
    {
     "data": {
      "text/plain": [
       "'Kindomofheaven'"
      ]
     },
     "execution_count": 11,
     "metadata": {},
     "output_type": "execute_result"
    }
   ],
   "source": [
    "\n",
    "try :\n",
    "    def remove_ithchar(s,i):\n",
    "        \n",
    "        for j in range(len(s)):\n",
    "            if j == i :\n",
    "                \n",
    "                s = s.replace(s[i],\"\",1)\n",
    "        return s\n",
    "\n",
    "except Exception as e:\n",
    "    print(f\"The error is {e}\")\n",
    "\n",
    "else :\n",
    "    print (\"The code is excecuted\")\n",
    "\n",
    "s = \"Kingdomofheaven\"\n",
    "i = 3\n",
    "\n",
    "remove_ithchar(s,i)"
   ]
  },
  {
   "cell_type": "markdown",
   "id": "7e593b72",
   "metadata": {},
   "source": [
    "__3.Write a Python program to split and join a string?__"
   ]
  },
  {
   "cell_type": "code",
   "execution_count": 10,
   "id": "32c57eeb",
   "metadata": {},
   "outputs": [
    {
     "data": {
      "text/plain": [
       "'This-is-Aadhvan-Mahendiran'"
      ]
     },
     "execution_count": 10,
     "metadata": {},
     "output_type": "execute_result"
    }
   ],
   "source": [
    "def split_string(string):\n",
    "    list_string = string.split(' ')\n",
    "    return list_string\n",
    "    \n",
    "        \n",
    "    \n",
    "def join_string(list_string):\n",
    "    string = '-'.join(list_string)\n",
    "    return string  \n",
    "\n",
    "string = \"This is Aadhvan Mahendiran\"\n",
    "list_string = split_string(string)\n",
    "join_string(list_string)\n"
   ]
  },
  {
   "cell_type": "markdown",
   "id": "7f987423",
   "metadata": {},
   "source": [
    "__4.Write a Python to check if a given string is binary string or not?___"
   ]
  },
  {
   "cell_type": "code",
   "execution_count": 35,
   "id": "823e90d9",
   "metadata": {},
   "outputs": [
    {
     "name": "stdout",
     "output_type": "stream",
     "text": [
      "The code is excecuted succesfully\n",
      "Binary string {'0', '1'}\n",
      "Non Binary string {'0', '2', '1', '3'}\n"
     ]
    }
   ],
   "source": [
    "try:\n",
    "    def check_binary(string):\n",
    "        s = set(string)\n",
    "        b = {\"0\",\"1\"}\n",
    "        if s == b or s =={\"0\"} or s =={\"1\"}:\n",
    "            print(f\"Binary string {s}\")\n",
    "        else:\n",
    "            print(f\"Non Binary string {s}\")\n",
    "            \n",
    "except Exception as e:\n",
    "    print(f\"The error in the code is {e}\")\n",
    "\n",
    "else:\n",
    "    print(\"The code is excecuted succesfully\")\n",
    "    \n",
    "string1 = \"0111010101010\"\n",
    "check_binary(string1)\n",
    "string2 = \"1210012301201\"\n",
    "check_binary(string2)"
   ]
  },
  {
   "cell_type": "markdown",
   "id": "9684bf0e",
   "metadata": {},
   "source": [
    "__5.Write a Python program to find uncommon words from two Strings?__"
   ]
  },
  {
   "cell_type": "code",
   "execution_count": 24,
   "id": "2c434c8a",
   "metadata": {},
   "outputs": [
    {
     "name": "stdout",
     "output_type": "stream",
     "text": [
      "The code is exccecuted succesfully\n"
     ]
    },
    {
     "data": {
      "text/plain": [
       "' The is I am in my own'"
      ]
     },
     "execution_count": 24,
     "metadata": {},
     "output_type": "execute_result"
    }
   ],
   "source": [
    "try:\n",
    "    def uncommon(s1,s2):\n",
    "        list_s1 = s1.split(\" \")\n",
    "        list_s2 = s2.split(\" \")\n",
    "        uncom_words = \"\"\n",
    "        for i in list_s1:\n",
    "            if i not in list_s2:\n",
    "                uncom_words = uncom_words+\" \"+i\n",
    "        for j in list_s2:\n",
    "            if j not in list_s1:\n",
    "                uncom_words = uncom_words+\" \"+j\n",
    "        return uncom_words\n",
    "    \n",
    "except Exceaption as e:\n",
    "    print(f\"The error in the code is {e}\")\n",
    "    \n",
    "else:\n",
    "    print(\"The code is exccecuted succesfully\")\n",
    "    \n",
    "s1 = \"The world is beautiful\"\n",
    "s2 = \"I am beautiful in my own world\"\n",
    "\n",
    "uncommon(s1,s2)"
   ]
  },
  {
   "cell_type": "markdown",
   "id": "d258d42a",
   "metadata": {},
   "source": [
    "__6.Write a Python to find all duplicate characters in string?__"
   ]
  },
  {
   "cell_type": "code",
   "execution_count": 28,
   "id": "25851f72",
   "metadata": {},
   "outputs": [
    {
     "name": "stdout",
     "output_type": "stream",
     "text": [
      "The code is excecuted succesfully\n"
     ]
    },
    {
     "data": {
      "text/plain": [
       "[' ', 'a', 'm', 'd', 'h', 'n']"
      ]
     },
     "execution_count": 28,
     "metadata": {},
     "output_type": "execute_result"
    }
   ],
   "source": [
    "try :\n",
    "    def duplicate_char(string):\n",
    "        \n",
    "        duplicates = [ ]\n",
    "        \n",
    "        for i in string:\n",
    "            if string.count(i) > 1 :\n",
    "                if i not in duplicates:\n",
    "                    duplicates.append(i)\n",
    "                    \n",
    "        return duplicates\n",
    "\n",
    "except Exception as e:\n",
    "    print(f\"The error in the code is {e}\")\n",
    "\n",
    "else:\n",
    "    print(\"The code is excecuted succesfully\")\n",
    "    \n",
    "string = \"I am aadhavan mahendiran\"\n",
    "duplicate_char(string)"
   ]
  },
  {
   "cell_type": "markdown",
   "id": "eeb99952",
   "metadata": {},
   "source": [
    "__7.Write a Python Program to check if a string contains any special character?___"
   ]
  },
  {
   "cell_type": "code",
   "execution_count": 30,
   "id": "f17efa16",
   "metadata": {},
   "outputs": [
    {
     "name": "stdout",
     "output_type": "stream",
     "text": [
      "The code is exceuted succesfully\n",
      "The special characters in string is  #\n",
      "The special characters in string is  $\n",
      "The special characters in string is  %\n"
     ]
    }
   ],
   "source": [
    "try:\n",
    "    def spl_char(string):\n",
    "        \n",
    "        spl = \"[@_!$%^&*()<>?/\\|}{~:]#\"\n",
    "        \n",
    "        for i in string:\n",
    "            if i in spl:\n",
    "                print(f\"The special characters in string is  {i}\")\n",
    "\n",
    "except Exception as e:\n",
    "    print(f\"The error in the code is {e}\")\n",
    "\n",
    "else:\n",
    "    print(\"The code is exceuted succesfully\")    \n",
    "    \n",
    "string = \"hey aadhavan#$%\"\n",
    "spl_char(string)"
   ]
  },
  {
   "cell_type": "code",
   "execution_count": null,
   "id": "5a0b1ac1",
   "metadata": {},
   "outputs": [],
   "source": []
  }
 ],
 "metadata": {
  "kernelspec": {
   "display_name": "Python 3 (ipykernel)",
   "language": "python",
   "name": "python3"
  },
  "language_info": {
   "codemirror_mode": {
    "name": "ipython",
    "version": 3
   },
   "file_extension": ".py",
   "mimetype": "text/x-python",
   "name": "python",
   "nbconvert_exporter": "python",
   "pygments_lexer": "ipython3",
   "version": "3.9.7"
  }
 },
 "nbformat": 4,
 "nbformat_minor": 5
}
