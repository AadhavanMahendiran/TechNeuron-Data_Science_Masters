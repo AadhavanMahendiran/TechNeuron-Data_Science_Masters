{
 "cells": [
  {
   "cell_type": "markdown",
   "id": "db30ee55",
   "metadata": {},
   "source": [
    "1. In the below elements which of them are values or an expression? eg:- values can be integer or string and expressions will be mathematical operators.\n",
    "* \n",
    "'hello'\n",
    "-87.8\n",
    "- \n",
    "/ \n",
    "+\t\n",
    "6 "
   ]
  },
  {
   "cell_type": "markdown",
   "id": "1296872d",
   "metadata": {},
   "source": [
    "### Answer"
   ]
  },
  {
   "cell_type": "raw",
   "id": "3314208c",
   "metadata": {},
   "source": [
    "# Everything is a values\n",
    "\n",
    "-87.8 - \"Integer\"\n",
    "'hello' - Sring\n",
    "6 - \"Integer\"\n",
    "\n",
    "# everything below is an expression\n",
    "- \n",
    "/ \n",
    "+\t"
   ]
  },
  {
   "cell_type": "markdown",
   "id": "8b7f2727",
   "metadata": {},
   "source": [
    "2. What is the difference between string and variable?\n"
   ]
  },
  {
   "cell_type": "markdown",
   "id": "9aab7a25",
   "metadata": {},
   "source": [
    "### Answer"
   ]
  },
  {
   "cell_type": "markdown",
   "id": "8a699c50",
   "metadata": {},
   "source": [
    "__Variable :\n",
    "    Variable is a local instance or global instances where we can try to store the data.\n",
    "Eg: a = 10__.\n"
   ]
  },
  {
   "cell_type": "markdown",
   "id": "b33a7b4b",
   "metadata": {},
   "source": [
    "__string :   Whatever we enclose within single quote or double quote is called string. string is a combination of character, words.__"
   ]
  },
  {
   "cell_type": "markdown",
   "id": "99a47083",
   "metadata": {},
   "source": [
    "3. Describe three different data types."
   ]
  },
  {
   "cell_type": "markdown",
   "id": "663de18c",
   "metadata": {},
   "source": [
    "### Answer"
   ]
  },
  {
   "cell_type": "raw",
   "id": "af7e0cbb",
   "metadata": {},
   "source": [
    "integer\n",
    " Integer is a data type consider nnmerical value whole numbeer only. Exclude decimal values.\n",
    "string\n",
    " string is a data type conside combination of character.\n",
    "float\n",
    " Float is a data type consider only decimal values.\n",
    "Bollean\n",
    " Boolean is a data type consider True and False"
   ]
  },
  {
   "cell_type": "markdown",
   "id": "d2c4edcf",
   "metadata": {},
   "source": [
    "4. What is an expression made up of? What do all expressions do?"
   ]
  },
  {
   "cell_type": "markdown",
   "id": "00a8e9c9",
   "metadata": {},
   "source": [
    "### Answer"
   ]
  },
  {
   "cell_type": "markdown",
   "id": "9956788b",
   "metadata": {},
   "source": [
    "__Expression is a combination of values, variables, operators and function calls that returns a result value. Expression evaluates to a value.__"
   ]
  },
  {
   "cell_type": "markdown",
   "id": "3b63cca7",
   "metadata": {},
   "source": [
    "5. This assignment statements, like spam = 10. What is the difference between an expression and a statement?"
   ]
  },
  {
   "cell_type": "markdown",
   "id": "d9b5a58f",
   "metadata": {},
   "source": [
    "### Answer"
   ]
  },
  {
   "cell_type": "code",
   "execution_count": 10,
   "id": "2b94ab05",
   "metadata": {},
   "outputs": [],
   "source": [
    "spam = 10"
   ]
  },
  {
   "cell_type": "markdown",
   "id": "776e0b77",
   "metadata": {},
   "source": [
    "__Expression is a combination of values, variables, operators and function calls that returns a result value. \n",
    "Expression evaluates to a value.__"
   ]
  },
  {
   "cell_type": "code",
   "execution_count": 15,
   "id": "21bfc81b",
   "metadata": {},
   "outputs": [
    {
     "data": {
      "text/plain": [
       "7"
      ]
     },
     "execution_count": 15,
     "metadata": {},
     "output_type": "execute_result"
    }
   ],
   "source": [
    "# This is expression\n",
    "x= 4\n",
    "y = 3\n",
    "x + y"
   ]
  },
  {
   "cell_type": "markdown",
   "id": "070c2231",
   "metadata": {},
   "source": [
    "__Any command that a python interpreter can execute is called a Statement. A statement does something, like creating a variable or displaying a value, it only does whatever the statement says.__"
   ]
  },
  {
   "cell_type": "markdown",
   "id": "49472974",
   "metadata": {},
   "source": [
    "__Statement can be a expression but Expression can't be a statement.__"
   ]
  },
  {
   "cell_type": "markdown",
   "id": "eb55ea93",
   "metadata": {},
   "source": [
    "6. After running the following code, what does the variable bacon contain?"
   ]
  },
  {
   "cell_type": "code",
   "execution_count": 4,
   "id": "c8ca2c68",
   "metadata": {},
   "outputs": [
    {
     "data": {
      "text/plain": [
       "23"
      ]
     },
     "execution_count": 4,
     "metadata": {},
     "output_type": "execute_result"
    }
   ],
   "source": [
    "#6. After running the following code, what does the variable bacon contain?\n",
    "bacon = 22\n",
    "bacon + 1"
   ]
  },
  {
   "cell_type": "markdown",
   "id": "62c17ceb",
   "metadata": {},
   "source": [
    "__bacon contain 23__"
   ]
  },
  {
   "cell_type": "code",
   "execution_count": null,
   "id": "a93abc3f",
   "metadata": {},
   "outputs": [],
   "source": [
    "7. What should the values of the following two terms be?\n",
    "'spam' + 'spamspam'\n",
    "'spam' * 3"
   ]
  },
  {
   "cell_type": "markdown",
   "id": "893b3599",
   "metadata": {},
   "source": [
    "### Answer"
   ]
  },
  {
   "cell_type": "markdown",
   "id": "3f0867bb",
   "metadata": {},
   "source": [
    "__The value of two term is same__"
   ]
  },
  {
   "cell_type": "code",
   "execution_count": 12,
   "id": "92f7c915",
   "metadata": {},
   "outputs": [
    {
     "data": {
      "text/plain": [
       "'spamspamspam'"
      ]
     },
     "execution_count": 12,
     "metadata": {},
     "output_type": "execute_result"
    }
   ],
   "source": [
    "'spam' + 'spamspam'"
   ]
  },
  {
   "cell_type": "code",
   "execution_count": 13,
   "id": "003b890a",
   "metadata": {},
   "outputs": [
    {
     "data": {
      "text/plain": [
       "'spamspamspam'"
      ]
     },
     "execution_count": 13,
     "metadata": {},
     "output_type": "execute_result"
    }
   ],
   "source": [
    "'spam' * 3"
   ]
  },
  {
   "cell_type": "code",
   "execution_count": null,
   "id": "e067010f",
   "metadata": {},
   "outputs": [],
   "source": [
    "8. Why is eggs a valid variable name while 100 is invalid?"
   ]
  },
  {
   "cell_type": "markdown",
   "id": "c15431e1",
   "metadata": {},
   "source": [
    "### Answer"
   ]
  },
  {
   "cell_type": "markdown",
   "id": "00fe82ee",
   "metadata": {},
   "source": [
    "__Variable name unable to start with integer. Variable always start with character.__"
   ]
  },
  {
   "cell_type": "code",
   "execution_count": null,
   "id": "3ab655d6",
   "metadata": {},
   "outputs": [],
   "source": [
    "9. What three functions can be used to get the integer, floating-point number, or string version of a value?"
   ]
  },
  {
   "cell_type": "markdown",
   "id": "871e4a81",
   "metadata": {},
   "source": [
    "### Answer"
   ]
  },
  {
   "cell_type": "raw",
   "id": "caa49b84",
   "metadata": {},
   "source": [
    "int() ---> integer\n",
    "float() ----.> floating point number\n",
    "str() ----> str"
   ]
  },
  {
   "cell_type": "code",
   "execution_count": null,
   "id": "05057e71",
   "metadata": {},
   "outputs": [],
   "source": [
    "10. Why does this expression cause an error? How can you fix it?\n",
    "'I have eaten ' + 99 + ' burritos.'"
   ]
  },
  {
   "cell_type": "markdown",
   "id": "2d341b9d",
   "metadata": {},
   "source": [
    "### Answer"
   ]
  },
  {
   "cell_type": "code",
   "execution_count": 7,
   "id": "f620c831",
   "metadata": {},
   "outputs": [
    {
     "ename": "TypeError",
     "evalue": "can only concatenate str (not \"int\") to str",
     "output_type": "error",
     "traceback": [
      "\u001b[1;31m---------------------------------------------------------------------------\u001b[0m",
      "\u001b[1;31mTypeError\u001b[0m                                 Traceback (most recent call last)",
      "\u001b[1;32m~\\AppData\\Local\\Temp/ipykernel_34972/1774935878.py\u001b[0m in \u001b[0;36m<module>\u001b[1;34m\u001b[0m\n\u001b[1;32m----> 1\u001b[1;33m \u001b[1;34m'I have eaten '\u001b[0m \u001b[1;33m+\u001b[0m \u001b[1;36m99\u001b[0m \u001b[1;33m+\u001b[0m \u001b[1;34m' burritos.'\u001b[0m\u001b[1;33m\u001b[0m\u001b[1;33m\u001b[0m\u001b[0m\n\u001b[0m",
      "\u001b[1;31mTypeError\u001b[0m: can only concatenate str (not \"int\") to str"
     ]
    }
   ],
   "source": [
    "'I have eaten ' + 99 + ' burritos.'"
   ]
  },
  {
   "cell_type": "markdown",
   "id": "f773ab23",
   "metadata": {},
   "source": [
    "__Here we trying to do addition operation with string and integer data type. Only homogeneous data type operation can be \n",
    "performed by python.so we need to do typecasting so integer converted into string and we need to do addition__"
   ]
  },
  {
   "cell_type": "code",
   "execution_count": 14,
   "id": "aec47fe2",
   "metadata": {},
   "outputs": [
    {
     "data": {
      "text/plain": [
       "'I have eaten 99 burritos.'"
      ]
     },
     "execution_count": 14,
     "metadata": {},
     "output_type": "execute_result"
    }
   ],
   "source": [
    "# typecasting str(99)\n",
    "\n",
    "'I have eaten ' + str(99) + ' burritos.'"
   ]
  },
  {
   "cell_type": "code",
   "execution_count": null,
   "id": "2743df5d",
   "metadata": {},
   "outputs": [],
   "source": []
  }
 ],
 "metadata": {
  "kernelspec": {
   "display_name": "Python 3 (ipykernel)",
   "language": "python",
   "name": "python3"
  },
  "language_info": {
   "codemirror_mode": {
    "name": "ipython",
    "version": 3
   },
   "file_extension": ".py",
   "mimetype": "text/x-python",
   "name": "python",
   "nbconvert_exporter": "python",
   "pygments_lexer": "ipython3",
   "version": "3.9.7"
  }
 },
 "nbformat": 4,
 "nbformat_minor": 5
}
