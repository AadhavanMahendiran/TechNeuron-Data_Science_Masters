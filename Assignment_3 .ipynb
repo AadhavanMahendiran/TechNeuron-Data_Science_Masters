{
 "cells": [
  {
   "cell_type": "markdown",
   "id": "cc19c26b",
   "metadata": {},
   "source": [
    "__1. Why are functions advantageous to have in your programs?__"
   ]
  },
  {
   "cell_type": "raw",
   "id": "d07ed588",
   "metadata": {},
   "source": [
    "Answer : Functions reduce the need for duplicate code. This makes programs shorter, easier to read, and easier to update."
   ]
  },
  {
   "cell_type": "markdown",
   "id": "15dba42e",
   "metadata": {},
   "source": [
    "__2. When does the code in a function run: when it's specified or when it's called?__"
   ]
  },
  {
   "cell_type": "raw",
   "id": "0fd29db3",
   "metadata": {},
   "source": [
    "Answer : The code will run only when it is called not when it is specified"
   ]
  },
  {
   "cell_type": "markdown",
   "id": "d707436b",
   "metadata": {},
   "source": [
    "__3. What statement creates a function?__"
   ]
  },
  {
   "cell_type": "raw",
   "id": "679946ff",
   "metadata": {},
   "source": [
    "Answer : def(): this \"def\" statement create the function"
   ]
  },
  {
   "cell_type": "markdown",
   "id": "e7dc4e24",
   "metadata": {},
   "source": [
    "__4. What is the difference between a function and a function call?__"
   ]
  },
  {
   "cell_type": "raw",
   "id": "7bb412c8",
   "metadata": {},
   "source": [
    "Answer : \n",
    "    function consist of def statement.\n",
    "    \n",
    "    function call means calling the logics inside the def statement. then excecutet the program. it will give the output"
   ]
  },
  {
   "cell_type": "markdown",
   "id": "9b05e542",
   "metadata": {},
   "source": [
    "__5. How many global scopes are there in a Python program? How many local scopes?__"
   ]
  },
  {
   "cell_type": "raw",
   "id": "14ea1050",
   "metadata": {},
   "source": [
    "Answer : one global scope & one local scope is available."
   ]
  },
  {
   "cell_type": "markdown",
   "id": "84963f89",
   "metadata": {},
   "source": [
    "__6. What happens to variables in a local scope when the function call returns?__"
   ]
  },
  {
   "cell_type": "raw",
   "id": "1cded2c4",
   "metadata": {},
   "source": [
    "Answer : once the function call is return. we cannot use the local scope variable outside the function."
   ]
  },
  {
   "cell_type": "markdown",
   "id": "443028ef",
   "metadata": {},
   "source": [
    "__7. What is the concept of a return value? Is it possible to have a return value in an expression?__"
   ]
  },
  {
   "cell_type": "raw",
   "id": "6ef2daa5",
   "metadata": {},
   "source": [
    "Answer :A return value is the value that a function call evaluates to. Like any value, \n",
    "a return value can be used as part of an expression."
   ]
  },
  {
   "cell_type": "markdown",
   "id": "c01d790b",
   "metadata": {},
   "source": [
    "__8. If a function does not have a return statement, what is the return value of a call to that function?__"
   ]
  },
  {
   "cell_type": "raw",
   "id": "48cb7ee9",
   "metadata": {},
   "source": [
    "Answer : if there is no return statement . Then there is no return value. the return value is none."
   ]
  },
  {
   "cell_type": "markdown",
   "id": "595e021c",
   "metadata": {},
   "source": [
    "__9. How do you make a function variable refer to the global variable?__"
   ]
  },
  {
   "cell_type": "raw",
   "id": "b929a1e2",
   "metadata": {},
   "source": [
    "Answer:A global statement will force a variable in a function to refer to the global variable."
   ]
  },
  {
   "cell_type": "markdown",
   "id": "fa132682",
   "metadata": {},
   "source": [
    "__10. What is the data type of None?__"
   ]
  },
  {
   "cell_type": "code",
   "execution_count": 8,
   "id": "0631b0f1",
   "metadata": {},
   "outputs": [
    {
     "data": {
      "text/plain": [
       "NoneType"
      ]
     },
     "execution_count": 8,
     "metadata": {},
     "output_type": "execute_result"
    }
   ],
   "source": [
    "type(None)"
   ]
  },
  {
   "cell_type": "markdown",
   "id": "ddd3e02e",
   "metadata": {},
   "source": [
    "Answer : NoneType"
   ]
  },
  {
   "cell_type": "markdown",
   "id": "a91dc025",
   "metadata": {},
   "source": [
    "__11. What does the sentence import areallyourpetsnamederic do?__"
   ]
  },
  {
   "cell_type": "raw",
   "id": "b4c3e014",
   "metadata": {},
   "source": [
    "Answer : import statement will import the module  areallyourpetsnamederic"
   ]
  },
  {
   "cell_type": "markdown",
   "id": "65c05325",
   "metadata": {},
   "source": [
    "__12. If you had a bacon() feature in a spam module, what would you call it after importing spam?__"
   ]
  },
  {
   "cell_type": "raw",
   "id": "df32a9f2",
   "metadata": {},
   "source": [
    "Answer :spam.bacon()"
   ]
  },
  {
   "cell_type": "markdown",
   "id": "40cb982c",
   "metadata": {},
   "source": [
    "__13. What can you do to save a programme from crashing if it encounters an error?__"
   ]
  },
  {
   "cell_type": "raw",
   "id": "6b6ff924",
   "metadata": {},
   "source": [
    "Answer :we can use try and except"
   ]
  },
  {
   "cell_type": "markdown",
   "id": "b6ef93fe",
   "metadata": {},
   "source": [
    "__14. What is the purpose of the try clause? What is the purpose of the except clause?__"
   ]
  },
  {
   "cell_type": "raw",
   "id": "9c962299",
   "metadata": {},
   "source": [
    "Answer : \n",
    "    \n",
    "    When the function pass into try clause. if everything is right it will give the output.\n",
    "then it will pass into the else clause\n",
    "\n",
    "    If function have wrong inputs or some other issue. it cannot able to give the output.\n",
    "    so then it pass into the except clause. we can mention the particular error. or we can use exception for all the error.\n",
    "\n",
    "By using try and except clause we can avoid crashing of system from error."
   ]
  },
  {
   "cell_type": "code",
   "execution_count": null,
   "id": "95fb6740",
   "metadata": {},
   "outputs": [],
   "source": []
  }
 ],
 "metadata": {
  "kernelspec": {
   "display_name": "Python 3 (ipykernel)",
   "language": "python",
   "name": "python3"
  },
  "language_info": {
   "codemirror_mode": {
    "name": "ipython",
    "version": 3
   },
   "file_extension": ".py",
   "mimetype": "text/x-python",
   "name": "python",
   "nbconvert_exporter": "python",
   "pygments_lexer": "ipython3",
   "version": "3.9.7"
  }
 },
 "nbformat": 4,
 "nbformat_minor": 5
}
