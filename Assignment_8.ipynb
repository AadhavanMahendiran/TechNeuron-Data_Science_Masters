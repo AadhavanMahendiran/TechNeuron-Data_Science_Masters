{
 "cells": [
  {
   "cell_type": "markdown",
   "id": "82454d0a",
   "metadata": {},
   "source": [
    "__1. Is the Python Standard Library included with PyInputPlus?__"
   ]
  },
  {
   "cell_type": "markdown",
   "id": "f33ffdf6",
   "metadata": {},
   "source": [
    "No"
   ]
  },
  {
   "cell_type": "markdown",
   "id": "173ae8ac",
   "metadata": {},
   "source": [
    "__2. Why is PyInputPlus commonly imported with import pyinputplus as pypi?__"
   ]
  },
  {
   "cell_type": "markdown",
   "id": "fc9c67ed",
   "metadata": {},
   "source": [
    "This optionally makes your code shorter to type: you can type pyip.inputStr() instead of pyinputplus.inputStr()."
   ]
  },
  {
   "cell_type": "markdown",
   "id": "c3a0cb27",
   "metadata": {},
   "source": [
    "__3. How do you distinguish between inputInt() and inputFloat()?__"
   ]
  },
  {
   "cell_type": "markdown",
   "id": "c4ed2d96",
   "metadata": {},
   "source": [
    "int(input()) return int value. float(input()) returns float value."
   ]
  },
  {
   "cell_type": "markdown",
   "id": "d4a36b3e",
   "metadata": {},
   "source": [
    "__4. Using PyInputPlus, how do you ensure that the user enters a whole number between 0 and 99?__"
   ]
  },
  {
   "cell_type": "markdown",
   "id": "130d7645",
   "metadata": {},
   "source": [
    "Call pyip.inputint(min=0, max=99)."
   ]
  },
  {
   "cell_type": "markdown",
   "id": "c2cfa560",
   "metadata": {},
   "source": [
    "__5. What is transferred to the keyword arguments allowRegexes and blockRegexes?__"
   ]
  },
  {
   "cell_type": "markdown",
   "id": "9495db23",
   "metadata": {},
   "source": [
    "A list of regex strings that are either explicitly allowed or denied"
   ]
  },
  {
   "cell_type": "markdown",
   "id": "3d0d0032",
   "metadata": {},
   "source": [
    "__6. If a blank input is entered three times, what does inputStr(limit=3) do?__"
   ]
  },
  {
   "cell_type": "markdown",
   "id": "0d353058",
   "metadata": {},
   "source": [
    "The function will raise RetryLimitException."
   ]
  },
  {
   "cell_type": "markdown",
   "id": "025bb0de",
   "metadata": {},
   "source": [
    "__7. If blank input is entered three times, what does inputStr(limit=3, default='hello') do?__"
   ]
  },
  {
   "cell_type": "markdown",
   "id": "2069f11d",
   "metadata": {},
   "source": [
    "The function returns the value 'hello'."
   ]
  },
  {
   "cell_type": "code",
   "execution_count": null,
   "id": "f40bc63d",
   "metadata": {},
   "outputs": [],
   "source": []
  }
 ],
 "metadata": {
  "kernelspec": {
   "display_name": "Python 3 (ipykernel)",
   "language": "python",
   "name": "python3"
  },
  "language_info": {
   "codemirror_mode": {
    "name": "ipython",
    "version": 3
   },
   "file_extension": ".py",
   "mimetype": "text/x-python",
   "name": "python",
   "nbconvert_exporter": "python",
   "pygments_lexer": "ipython3",
   "version": "3.9.7"
  }
 },
 "nbformat": 4,
 "nbformat_minor": 5
}
